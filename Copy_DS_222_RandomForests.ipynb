{
  "nbformat": 4,
  "nbformat_minor": 0,
  "metadata": {
    "kernelspec": {
      "display_name": "Python 3",
      "language": "python",
      "name": "python3"
    },
    "language_info": {
      "codemirror_mode": {
        "name": "ipython",
        "version": 3
      },
      "file_extension": ".py",
      "mimetype": "text/x-python",
      "name": "python",
      "nbconvert_exporter": "python",
      "pygments_lexer": "ipython3",
      "version": "3.7.3"
    },
    "colab": {
      "name": "Copy_DS_222_RandomForests.ipynb",
      "provenance": [],
      "collapsed_sections": [],
      "include_colab_link": true
    },
    "widgets": {
      "application/vnd.jupyter.widget-state+json": {
        "ace2caf61efe46eca49c7dcf58112ec2": {
          "model_module": "@jupyter-widgets/controls",
          "model_name": "VBoxModel",
          "state": {
            "_view_name": "VBoxView",
            "_dom_classes": [
              "widget-interact"
            ],
            "_model_name": "VBoxModel",
            "_view_module": "@jupyter-widgets/controls",
            "_model_module_version": "1.5.0",
            "_view_count": null,
            "_view_module_version": "1.5.0",
            "box_style": "",
            "layout": "IPY_MODEL_20c25b4f798a49128f574aee2cfe3fb0",
            "_model_module": "@jupyter-widgets/controls",
            "children": [
              "IPY_MODEL_36ea0d27e42940f091b99a24c4487ef3",
              "IPY_MODEL_03e49eb96ebe4835ba84d8303f49886b",
              "IPY_MODEL_0d03d5cdee0341549d9f738399fceccd"
            ]
          }
        },
        "20c25b4f798a49128f574aee2cfe3fb0": {
          "model_module": "@jupyter-widgets/base",
          "model_name": "LayoutModel",
          "state": {
            "_view_name": "LayoutView",
            "grid_template_rows": null,
            "right": null,
            "justify_content": null,
            "_view_module": "@jupyter-widgets/base",
            "overflow": null,
            "_model_module_version": "1.2.0",
            "_view_count": null,
            "flex_flow": null,
            "width": null,
            "min_width": null,
            "border": null,
            "align_items": null,
            "bottom": null,
            "_model_module": "@jupyter-widgets/base",
            "top": null,
            "grid_column": null,
            "overflow_y": null,
            "overflow_x": null,
            "grid_auto_flow": null,
            "grid_area": null,
            "grid_template_columns": null,
            "flex": null,
            "_model_name": "LayoutModel",
            "justify_items": null,
            "grid_row": null,
            "max_height": null,
            "align_content": null,
            "visibility": null,
            "align_self": null,
            "height": null,
            "min_height": null,
            "padding": null,
            "grid_auto_rows": null,
            "grid_gap": null,
            "max_width": null,
            "order": null,
            "_view_module_version": "1.2.0",
            "grid_template_areas": null,
            "object_position": null,
            "object_fit": null,
            "grid_auto_columns": null,
            "margin": null,
            "display": null,
            "left": null
          }
        },
        "36ea0d27e42940f091b99a24c4487ef3": {
          "model_module": "@jupyter-widgets/controls",
          "model_name": "IntSliderModel",
          "state": {
            "_view_name": "IntSliderView",
            "style": "IPY_MODEL_4238afbcfe6047ffa1c959baecbf6e75",
            "_dom_classes": [],
            "description": "max_depth",
            "step": 1,
            "_model_name": "IntSliderModel",
            "orientation": "horizontal",
            "max": 6,
            "_view_module": "@jupyter-widgets/controls",
            "_model_module_version": "1.5.0",
            "value": 1,
            "_view_count": null,
            "disabled": false,
            "_view_module_version": "1.5.0",
            "min": 1,
            "continuous_update": true,
            "readout_format": "d",
            "description_tooltip": null,
            "readout": true,
            "_model_module": "@jupyter-widgets/controls",
            "layout": "IPY_MODEL_4c9b61c21db64a30b8500a17889b6648"
          }
        },
        "03e49eb96ebe4835ba84d8303f49886b": {
          "model_module": "@jupyter-widgets/controls",
          "model_name": "IntSliderModel",
          "state": {
            "_view_name": "IntSliderView",
            "style": "IPY_MODEL_1d6c720176a540b884842a6a5e872da8",
            "_dom_classes": [],
            "description": "n_estimators",
            "step": 10,
            "_model_name": "IntSliderModel",
            "orientation": "horizontal",
            "max": 40,
            "_view_module": "@jupyter-widgets/controls",
            "_model_module_version": "1.5.0",
            "value": 10,
            "_view_count": null,
            "disabled": false,
            "_view_module_version": "1.5.0",
            "min": 10,
            "continuous_update": true,
            "readout_format": "d",
            "description_tooltip": null,
            "readout": true,
            "_model_module": "@jupyter-widgets/controls",
            "layout": "IPY_MODEL_70a6fb8c4c864ea2bcc293438f2e9e50"
          }
        },
        "0d03d5cdee0341549d9f738399fceccd": {
          "model_module": "@jupyter-widgets/output",
          "model_name": "OutputModel",
          "state": {
            "_view_name": "OutputView",
            "msg_id": "",
            "_dom_classes": [],
            "_model_name": "OutputModel",
            "outputs": [
              {
                "output_type": "pyerr",
                "metadata": {
                  "tags": []
                },
                "ename": "NameError",
                "evalue": "ignored",
                "traceback": [
                  "\u001b[0;31m---------------------------------------------------------------------------\u001b[0m",
                  "\u001b[0;31mNameError\u001b[0m                                 Traceback (most recent call last)",
                  "\u001b[0;32m/usr/local/lib/python3.6/dist-packages/ipywidgets/widgets/interaction.py\u001b[0m in \u001b[0;36mupdate\u001b[0;34m(self, *args)\u001b[0m\n\u001b[1;32m    254\u001b[0m                     \u001b[0mvalue\u001b[0m \u001b[0;34m=\u001b[0m \u001b[0mwidget\u001b[0m\u001b[0;34m.\u001b[0m\u001b[0mget_interact_value\u001b[0m\u001b[0;34m(\u001b[0m\u001b[0;34m)\u001b[0m\u001b[0;34m\u001b[0m\u001b[0;34m\u001b[0m\u001b[0m\n\u001b[1;32m    255\u001b[0m                     \u001b[0mself\u001b[0m\u001b[0;34m.\u001b[0m\u001b[0mkwargs\u001b[0m\u001b[0;34m[\u001b[0m\u001b[0mwidget\u001b[0m\u001b[0;34m.\u001b[0m\u001b[0m_kwarg\u001b[0m\u001b[0;34m]\u001b[0m \u001b[0;34m=\u001b[0m \u001b[0mvalue\u001b[0m\u001b[0;34m\u001b[0m\u001b[0;34m\u001b[0m\u001b[0m\n\u001b[0;32m--> 256\u001b[0;31m                 \u001b[0mself\u001b[0m\u001b[0;34m.\u001b[0m\u001b[0mresult\u001b[0m \u001b[0;34m=\u001b[0m \u001b[0mself\u001b[0m\u001b[0;34m.\u001b[0m\u001b[0mf\u001b[0m\u001b[0;34m(\u001b[0m\u001b[0;34m**\u001b[0m\u001b[0mself\u001b[0m\u001b[0;34m.\u001b[0m\u001b[0mkwargs\u001b[0m\u001b[0;34m)\u001b[0m\u001b[0;34m\u001b[0m\u001b[0;34m\u001b[0m\u001b[0m\n\u001b[0m\u001b[1;32m    257\u001b[0m                 \u001b[0mshow_inline_matplotlib_plots\u001b[0m\u001b[0;34m(\u001b[0m\u001b[0;34m)\u001b[0m\u001b[0;34m\u001b[0m\u001b[0;34m\u001b[0m\u001b[0m\n\u001b[1;32m    258\u001b[0m                 \u001b[0;32mif\u001b[0m \u001b[0mself\u001b[0m\u001b[0;34m.\u001b[0m\u001b[0mauto_display\u001b[0m \u001b[0;32mand\u001b[0m \u001b[0mself\u001b[0m\u001b[0;34m.\u001b[0m\u001b[0mresult\u001b[0m \u001b[0;32mis\u001b[0m \u001b[0;32mnot\u001b[0m \u001b[0;32mNone\u001b[0m\u001b[0;34m:\u001b[0m\u001b[0;34m\u001b[0m\u001b[0;34m\u001b[0m\u001b[0m\n",
                  "\u001b[0;32m<ipython-input-1-e020c645c7db>\u001b[0m in \u001b[0;36mputt_trees\u001b[0;34m(max_depth, n_estimators)\u001b[0m\n\u001b[1;32m     11\u001b[0m     \u001b[0;32mfor\u001b[0m \u001b[0mmodel\u001b[0m \u001b[0;32min\u001b[0m \u001b[0mmodels\u001b[0m\u001b[0;34m:\u001b[0m\u001b[0;34m\u001b[0m\u001b[0;34m\u001b[0m\u001b[0m\n\u001b[1;32m     12\u001b[0m         \u001b[0mname\u001b[0m \u001b[0;34m=\u001b[0m \u001b[0mmodel\u001b[0m\u001b[0;34m.\u001b[0m\u001b[0m__class__\u001b[0m\u001b[0;34m.\u001b[0m\u001b[0m__name__\u001b[0m\u001b[0;34m\u001b[0m\u001b[0;34m\u001b[0m\u001b[0m\n\u001b[0;32m---> 13\u001b[0;31m         \u001b[0mmodel\u001b[0m\u001b[0;34m.\u001b[0m\u001b[0mfit\u001b[0m\u001b[0;34m(\u001b[0m\u001b[0mputts_X\u001b[0m\u001b[0;34m,\u001b[0m \u001b[0mputts_y\u001b[0m\u001b[0;34m)\u001b[0m\u001b[0;34m\u001b[0m\u001b[0;34m\u001b[0m\u001b[0m\n\u001b[0m\u001b[1;32m     14\u001b[0m         \u001b[0max\u001b[0m \u001b[0;34m=\u001b[0m \u001b[0mputts\u001b[0m\u001b[0;34m.\u001b[0m\u001b[0mplot\u001b[0m\u001b[0;34m(\u001b[0m\u001b[0;34m'distance'\u001b[0m\u001b[0;34m,\u001b[0m \u001b[0;34m'rate of success'\u001b[0m\u001b[0;34m,\u001b[0m \u001b[0mkind\u001b[0m\u001b[0;34m=\u001b[0m\u001b[0;34m'scatter'\u001b[0m\u001b[0;34m,\u001b[0m \u001b[0mtitle\u001b[0m\u001b[0;34m=\u001b[0m\u001b[0mname\u001b[0m\u001b[0;34m)\u001b[0m\u001b[0;34m\u001b[0m\u001b[0;34m\u001b[0m\u001b[0m\n\u001b[1;32m     15\u001b[0m         \u001b[0max\u001b[0m\u001b[0;34m.\u001b[0m\u001b[0mstep\u001b[0m\u001b[0;34m(\u001b[0m\u001b[0mputts_X\u001b[0m\u001b[0;34m,\u001b[0m \u001b[0mmodel\u001b[0m\u001b[0;34m.\u001b[0m\u001b[0mpredict\u001b[0m\u001b[0;34m(\u001b[0m\u001b[0mputts_X\u001b[0m\u001b[0;34m)\u001b[0m\u001b[0;34m,\u001b[0m \u001b[0mwhere\u001b[0m\u001b[0;34m=\u001b[0m\u001b[0;34m'mid'\u001b[0m\u001b[0;34m)\u001b[0m\u001b[0;34m\u001b[0m\u001b[0;34m\u001b[0m\u001b[0m\n",
                  "\u001b[0;31mNameError\u001b[0m: name 'putts_X' is not defined"
                ]
              }
            ],
            "_view_module": "@jupyter-widgets/output",
            "_model_module_version": "1.0.0",
            "_view_count": null,
            "_view_module_version": "1.0.0",
            "layout": "IPY_MODEL_6387d018d543491cbe8b51d076df415f",
            "_model_module": "@jupyter-widgets/output"
          }
        },
        "4238afbcfe6047ffa1c959baecbf6e75": {
          "model_module": "@jupyter-widgets/controls",
          "model_name": "SliderStyleModel",
          "state": {
            "_view_name": "StyleView",
            "handle_color": null,
            "_model_name": "SliderStyleModel",
            "description_width": "",
            "_view_module": "@jupyter-widgets/base",
            "_model_module_version": "1.5.0",
            "_view_count": null,
            "_view_module_version": "1.2.0",
            "_model_module": "@jupyter-widgets/controls"
          }
        },
        "4c9b61c21db64a30b8500a17889b6648": {
          "model_module": "@jupyter-widgets/base",
          "model_name": "LayoutModel",
          "state": {
            "_view_name": "LayoutView",
            "grid_template_rows": null,
            "right": null,
            "justify_content": null,
            "_view_module": "@jupyter-widgets/base",
            "overflow": null,
            "_model_module_version": "1.2.0",
            "_view_count": null,
            "flex_flow": null,
            "width": null,
            "min_width": null,
            "border": null,
            "align_items": null,
            "bottom": null,
            "_model_module": "@jupyter-widgets/base",
            "top": null,
            "grid_column": null,
            "overflow_y": null,
            "overflow_x": null,
            "grid_auto_flow": null,
            "grid_area": null,
            "grid_template_columns": null,
            "flex": null,
            "_model_name": "LayoutModel",
            "justify_items": null,
            "grid_row": null,
            "max_height": null,
            "align_content": null,
            "visibility": null,
            "align_self": null,
            "height": null,
            "min_height": null,
            "padding": null,
            "grid_auto_rows": null,
            "grid_gap": null,
            "max_width": null,
            "order": null,
            "_view_module_version": "1.2.0",
            "grid_template_areas": null,
            "object_position": null,
            "object_fit": null,
            "grid_auto_columns": null,
            "margin": null,
            "display": null,
            "left": null
          }
        },
        "1d6c720176a540b884842a6a5e872da8": {
          "model_module": "@jupyter-widgets/controls",
          "model_name": "SliderStyleModel",
          "state": {
            "_view_name": "StyleView",
            "handle_color": null,
            "_model_name": "SliderStyleModel",
            "description_width": "",
            "_view_module": "@jupyter-widgets/base",
            "_model_module_version": "1.5.0",
            "_view_count": null,
            "_view_module_version": "1.2.0",
            "_model_module": "@jupyter-widgets/controls"
          }
        },
        "70a6fb8c4c864ea2bcc293438f2e9e50": {
          "model_module": "@jupyter-widgets/base",
          "model_name": "LayoutModel",
          "state": {
            "_view_name": "LayoutView",
            "grid_template_rows": null,
            "right": null,
            "justify_content": null,
            "_view_module": "@jupyter-widgets/base",
            "overflow": null,
            "_model_module_version": "1.2.0",
            "_view_count": null,
            "flex_flow": null,
            "width": null,
            "min_width": null,
            "border": null,
            "align_items": null,
            "bottom": null,
            "_model_module": "@jupyter-widgets/base",
            "top": null,
            "grid_column": null,
            "overflow_y": null,
            "overflow_x": null,
            "grid_auto_flow": null,
            "grid_area": null,
            "grid_template_columns": null,
            "flex": null,
            "_model_name": "LayoutModel",
            "justify_items": null,
            "grid_row": null,
            "max_height": null,
            "align_content": null,
            "visibility": null,
            "align_self": null,
            "height": null,
            "min_height": null,
            "padding": null,
            "grid_auto_rows": null,
            "grid_gap": null,
            "max_width": null,
            "order": null,
            "_view_module_version": "1.2.0",
            "grid_template_areas": null,
            "object_position": null,
            "object_fit": null,
            "grid_auto_columns": null,
            "margin": null,
            "display": null,
            "left": null
          }
        },
        "6387d018d543491cbe8b51d076df415f": {
          "model_module": "@jupyter-widgets/base",
          "model_name": "LayoutModel",
          "state": {
            "_view_name": "LayoutView",
            "grid_template_rows": null,
            "right": null,
            "justify_content": null,
            "_view_module": "@jupyter-widgets/base",
            "overflow": null,
            "_model_module_version": "1.2.0",
            "_view_count": null,
            "flex_flow": null,
            "width": null,
            "min_width": null,
            "border": null,
            "align_items": null,
            "bottom": null,
            "_model_module": "@jupyter-widgets/base",
            "top": null,
            "grid_column": null,
            "overflow_y": null,
            "overflow_x": null,
            "grid_auto_flow": null,
            "grid_area": null,
            "grid_template_columns": null,
            "flex": null,
            "_model_name": "LayoutModel",
            "justify_items": null,
            "grid_row": null,
            "max_height": null,
            "align_content": null,
            "visibility": null,
            "align_self": null,
            "height": null,
            "min_height": null,
            "padding": null,
            "grid_auto_rows": null,
            "grid_gap": null,
            "max_width": null,
            "order": null,
            "_view_module_version": "1.2.0",
            "grid_template_areas": null,
            "object_position": null,
            "object_fit": null,
            "grid_auto_columns": null,
            "margin": null,
            "display": null,
            "left": null
          }
        },
        "7829a46de536481da9034003e84b0d25": {
          "model_module": "@jupyter-widgets/controls",
          "model_name": "VBoxModel",
          "state": {
            "_view_name": "VBoxView",
            "_dom_classes": [
              "widget-interact"
            ],
            "_model_name": "VBoxModel",
            "_view_module": "@jupyter-widgets/controls",
            "_model_module_version": "1.5.0",
            "_view_count": null,
            "_view_module_version": "1.5.0",
            "box_style": "",
            "layout": "IPY_MODEL_9cd4ec1b7d4a4fb5bd1e54008f42fbdd",
            "_model_module": "@jupyter-widgets/controls",
            "children": [
              "IPY_MODEL_215d1ed483df426ea7605119acff9e93",
              "IPY_MODEL_efe66ac6bb7e4f7e97f8edf7e53da2eb",
              "IPY_MODEL_855c46a984164540a209b5e70883a6b6"
            ]
          }
        },
        "9cd4ec1b7d4a4fb5bd1e54008f42fbdd": {
          "model_module": "@jupyter-widgets/base",
          "model_name": "LayoutModel",
          "state": {
            "_view_name": "LayoutView",
            "grid_template_rows": null,
            "right": null,
            "justify_content": null,
            "_view_module": "@jupyter-widgets/base",
            "overflow": null,
            "_model_module_version": "1.2.0",
            "_view_count": null,
            "flex_flow": null,
            "width": null,
            "min_width": null,
            "border": null,
            "align_items": null,
            "bottom": null,
            "_model_module": "@jupyter-widgets/base",
            "top": null,
            "grid_column": null,
            "overflow_y": null,
            "overflow_x": null,
            "grid_auto_flow": null,
            "grid_area": null,
            "grid_template_columns": null,
            "flex": null,
            "_model_name": "LayoutModel",
            "justify_items": null,
            "grid_row": null,
            "max_height": null,
            "align_content": null,
            "visibility": null,
            "align_self": null,
            "height": null,
            "min_height": null,
            "padding": null,
            "grid_auto_rows": null,
            "grid_gap": null,
            "max_width": null,
            "order": null,
            "_view_module_version": "1.2.0",
            "grid_template_areas": null,
            "object_position": null,
            "object_fit": null,
            "grid_auto_columns": null,
            "margin": null,
            "display": null,
            "left": null
          }
        },
        "215d1ed483df426ea7605119acff9e93": {
          "model_module": "@jupyter-widgets/controls",
          "model_name": "IntSliderModel",
          "state": {
            "_view_name": "IntSliderView",
            "style": "IPY_MODEL_9450e8a44b9447ce9f9394db8a15b5db",
            "_dom_classes": [],
            "description": "max_depth",
            "step": 1,
            "_model_name": "IntSliderModel",
            "orientation": "horizontal",
            "max": 6,
            "_view_module": "@jupyter-widgets/controls",
            "_model_module_version": "1.5.0",
            "value": 5,
            "_view_count": null,
            "disabled": false,
            "_view_module_version": "1.5.0",
            "min": 1,
            "continuous_update": true,
            "readout_format": "d",
            "description_tooltip": null,
            "readout": true,
            "_model_module": "@jupyter-widgets/controls",
            "layout": "IPY_MODEL_bbb25e40f41e43dfb15f5542aac73cb5"
          }
        },
        "efe66ac6bb7e4f7e97f8edf7e53da2eb": {
          "model_module": "@jupyter-widgets/controls",
          "model_name": "IntSliderModel",
          "state": {
            "_view_name": "IntSliderView",
            "style": "IPY_MODEL_41e400861bac42d0a2323856ed65f8da",
            "_dom_classes": [],
            "description": "n_estimators",
            "step": 10,
            "_model_name": "IntSliderModel",
            "orientation": "horizontal",
            "max": 40,
            "_view_module": "@jupyter-widgets/controls",
            "_model_module_version": "1.5.0",
            "value": 10,
            "_view_count": null,
            "disabled": false,
            "_view_module_version": "1.5.0",
            "min": 10,
            "continuous_update": true,
            "readout_format": "d",
            "description_tooltip": null,
            "readout": true,
            "_model_module": "@jupyter-widgets/controls",
            "layout": "IPY_MODEL_200322156fd543408278d593d8f6bd99"
          }
        },
        "855c46a984164540a209b5e70883a6b6": {
          "model_module": "@jupyter-widgets/output",
          "model_name": "OutputModel",
          "state": {
            "_view_name": "OutputView",
            "msg_id": "",
            "_dom_classes": [],
            "_model_name": "OutputModel",
            "outputs": [
              {
                "output_type": "display_data",
                "metadata": {
                  "tags": [],
                  "needs_background": "light"
                },
                "image/png": "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\n",
                "text/plain": "<Figure size 432x288 with 2 Axes>"
              },
              {
                "output_type": "display_data",
                "metadata": {
                  "tags": [],
                  "needs_background": "light"
                },
                "image/png": "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\n",
                "text/plain": "<Figure size 432x288 with 2 Axes>"
              },
              {
                "output_type": "display_data",
                "metadata": {
                  "tags": [],
                  "needs_background": "light"
                },
                "image/png": "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\n",
                "text/plain": "<Figure size 432x288 with 2 Axes>"
              }
            ],
            "_view_module": "@jupyter-widgets/output",
            "_model_module_version": "1.0.0",
            "_view_count": null,
            "_view_module_version": "1.0.0",
            "layout": "IPY_MODEL_b76101bca6fc426abab7dc15744370e9",
            "_model_module": "@jupyter-widgets/output"
          }
        },
        "9450e8a44b9447ce9f9394db8a15b5db": {
          "model_module": "@jupyter-widgets/controls",
          "model_name": "SliderStyleModel",
          "state": {
            "_view_name": "StyleView",
            "handle_color": null,
            "_model_name": "SliderStyleModel",
            "description_width": "",
            "_view_module": "@jupyter-widgets/base",
            "_model_module_version": "1.5.0",
            "_view_count": null,
            "_view_module_version": "1.2.0",
            "_model_module": "@jupyter-widgets/controls"
          }
        },
        "bbb25e40f41e43dfb15f5542aac73cb5": {
          "model_module": "@jupyter-widgets/base",
          "model_name": "LayoutModel",
          "state": {
            "_view_name": "LayoutView",
            "grid_template_rows": null,
            "right": null,
            "justify_content": null,
            "_view_module": "@jupyter-widgets/base",
            "overflow": null,
            "_model_module_version": "1.2.0",
            "_view_count": null,
            "flex_flow": null,
            "width": null,
            "min_width": null,
            "border": null,
            "align_items": null,
            "bottom": null,
            "_model_module": "@jupyter-widgets/base",
            "top": null,
            "grid_column": null,
            "overflow_y": null,
            "overflow_x": null,
            "grid_auto_flow": null,
            "grid_area": null,
            "grid_template_columns": null,
            "flex": null,
            "_model_name": "LayoutModel",
            "justify_items": null,
            "grid_row": null,
            "max_height": null,
            "align_content": null,
            "visibility": null,
            "align_self": null,
            "height": null,
            "min_height": null,
            "padding": null,
            "grid_auto_rows": null,
            "grid_gap": null,
            "max_width": null,
            "order": null,
            "_view_module_version": "1.2.0",
            "grid_template_areas": null,
            "object_position": null,
            "object_fit": null,
            "grid_auto_columns": null,
            "margin": null,
            "display": null,
            "left": null
          }
        },
        "41e400861bac42d0a2323856ed65f8da": {
          "model_module": "@jupyter-widgets/controls",
          "model_name": "SliderStyleModel",
          "state": {
            "_view_name": "StyleView",
            "handle_color": null,
            "_model_name": "SliderStyleModel",
            "description_width": "",
            "_view_module": "@jupyter-widgets/base",
            "_model_module_version": "1.5.0",
            "_view_count": null,
            "_view_module_version": "1.2.0",
            "_model_module": "@jupyter-widgets/controls"
          }
        },
        "200322156fd543408278d593d8f6bd99": {
          "model_module": "@jupyter-widgets/base",
          "model_name": "LayoutModel",
          "state": {
            "_view_name": "LayoutView",
            "grid_template_rows": null,
            "right": null,
            "justify_content": null,
            "_view_module": "@jupyter-widgets/base",
            "overflow": null,
            "_model_module_version": "1.2.0",
            "_view_count": null,
            "flex_flow": null,
            "width": null,
            "min_width": null,
            "border": null,
            "align_items": null,
            "bottom": null,
            "_model_module": "@jupyter-widgets/base",
            "top": null,
            "grid_column": null,
            "overflow_y": null,
            "overflow_x": null,
            "grid_auto_flow": null,
            "grid_area": null,
            "grid_template_columns": null,
            "flex": null,
            "_model_name": "LayoutModel",
            "justify_items": null,
            "grid_row": null,
            "max_height": null,
            "align_content": null,
            "visibility": null,
            "align_self": null,
            "height": null,
            "min_height": null,
            "padding": null,
            "grid_auto_rows": null,
            "grid_gap": null,
            "max_width": null,
            "order": null,
            "_view_module_version": "1.2.0",
            "grid_template_areas": null,
            "object_position": null,
            "object_fit": null,
            "grid_auto_columns": null,
            "margin": null,
            "display": null,
            "left": null
          }
        },
        "b76101bca6fc426abab7dc15744370e9": {
          "model_module": "@jupyter-widgets/base",
          "model_name": "LayoutModel",
          "state": {
            "_view_name": "LayoutView",
            "grid_template_rows": null,
            "right": null,
            "justify_content": null,
            "_view_module": "@jupyter-widgets/base",
            "overflow": null,
            "_model_module_version": "1.2.0",
            "_view_count": null,
            "flex_flow": null,
            "width": null,
            "min_width": null,
            "border": null,
            "align_items": null,
            "bottom": null,
            "_model_module": "@jupyter-widgets/base",
            "top": null,
            "grid_column": null,
            "overflow_y": null,
            "overflow_x": null,
            "grid_auto_flow": null,
            "grid_area": null,
            "grid_template_columns": null,
            "flex": null,
            "_model_name": "LayoutModel",
            "justify_items": null,
            "grid_row": null,
            "max_height": null,
            "align_content": null,
            "visibility": null,
            "align_self": null,
            "height": null,
            "min_height": null,
            "padding": null,
            "grid_auto_rows": null,
            "grid_gap": null,
            "max_width": null,
            "order": null,
            "_view_module_version": "1.2.0",
            "grid_template_areas": null,
            "object_position": null,
            "object_fit": null,
            "grid_auto_columns": null,
            "margin": null,
            "display": null,
            "left": null
          }
        },
        "6c48c013a7ba4c7daed34097bacc3571": {
          "model_module": "@jupyter-widgets/controls",
          "model_name": "VBoxModel",
          "state": {
            "_view_name": "VBoxView",
            "_dom_classes": [
              "widget-interact"
            ],
            "_model_name": "VBoxModel",
            "_view_module": "@jupyter-widgets/controls",
            "_model_module_version": "1.5.0",
            "_view_count": null,
            "_view_module_version": "1.5.0",
            "box_style": "",
            "layout": "IPY_MODEL_4543b1b42e3a4782958fcf94b521e6b7",
            "_model_module": "@jupyter-widgets/controls",
            "children": [
              "IPY_MODEL_ba448504fd2547eca0717f384e11c4cd",
              "IPY_MODEL_40979758e9b148ad87d19d70908b2057",
              "IPY_MODEL_7bf391ca53a1441ca7e0a8d310d14713"
            ]
          }
        },
        "4543b1b42e3a4782958fcf94b521e6b7": {
          "model_module": "@jupyter-widgets/base",
          "model_name": "LayoutModel",
          "state": {
            "_view_name": "LayoutView",
            "grid_template_rows": null,
            "right": null,
            "justify_content": null,
            "_view_module": "@jupyter-widgets/base",
            "overflow": null,
            "_model_module_version": "1.2.0",
            "_view_count": null,
            "flex_flow": null,
            "width": null,
            "min_width": null,
            "border": null,
            "align_items": null,
            "bottom": null,
            "_model_module": "@jupyter-widgets/base",
            "top": null,
            "grid_column": null,
            "overflow_y": null,
            "overflow_x": null,
            "grid_auto_flow": null,
            "grid_area": null,
            "grid_template_columns": null,
            "flex": null,
            "_model_name": "LayoutModel",
            "justify_items": null,
            "grid_row": null,
            "max_height": null,
            "align_content": null,
            "visibility": null,
            "align_self": null,
            "height": null,
            "min_height": null,
            "padding": null,
            "grid_auto_rows": null,
            "grid_gap": null,
            "max_width": null,
            "order": null,
            "_view_module_version": "1.2.0",
            "grid_template_areas": null,
            "object_position": null,
            "object_fit": null,
            "grid_auto_columns": null,
            "margin": null,
            "display": null,
            "left": null
          }
        },
        "ba448504fd2547eca0717f384e11c4cd": {
          "model_module": "@jupyter-widgets/controls",
          "model_name": "IntSliderModel",
          "state": {
            "_view_name": "IntSliderView",
            "style": "IPY_MODEL_963fe36e9a1d4a879e0794a55bebe3f7",
            "_dom_classes": [],
            "description": "max_depth",
            "step": 1,
            "_model_name": "IntSliderModel",
            "orientation": "horizontal",
            "max": 6,
            "_view_module": "@jupyter-widgets/controls",
            "_model_module_version": "1.5.0",
            "value": 4,
            "_view_count": null,
            "disabled": false,
            "_view_module_version": "1.5.0",
            "min": 1,
            "continuous_update": true,
            "readout_format": "d",
            "description_tooltip": null,
            "readout": true,
            "_model_module": "@jupyter-widgets/controls",
            "layout": "IPY_MODEL_a59f51e77c284c8592cf1ce97e95c395"
          }
        },
        "40979758e9b148ad87d19d70908b2057": {
          "model_module": "@jupyter-widgets/controls",
          "model_name": "IntSliderModel",
          "state": {
            "_view_name": "IntSliderView",
            "style": "IPY_MODEL_b50c70738afd4627b68f15df5792325f",
            "_dom_classes": [],
            "description": "n_estimators",
            "step": 1,
            "_model_name": "IntSliderModel",
            "orientation": "horizontal",
            "max": 5,
            "_view_module": "@jupyter-widgets/controls",
            "_model_module_version": "1.5.0",
            "value": 4,
            "_view_count": null,
            "disabled": false,
            "_view_module_version": "1.5.0",
            "min": 2,
            "continuous_update": true,
            "readout_format": "d",
            "description_tooltip": null,
            "readout": true,
            "_model_module": "@jupyter-widgets/controls",
            "layout": "IPY_MODEL_f05ffb7018104aa9aef738626d933a8a"
          }
        },
        "7bf391ca53a1441ca7e0a8d310d14713": {
          "model_module": "@jupyter-widgets/output",
          "model_name": "OutputModel",
          "state": {
            "_view_name": "OutputView",
            "msg_id": "",
            "_dom_classes": [],
            "_model_name": "OutputModel",
            "outputs": [
              {
                "output_type": "display_data",
                "metadata": {
                  "tags": [],
                  "needs_background": "light"
                },
                "image/png": "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\n",
                "text/plain": "<Figure size 432x288 with 2 Axes>"
              },
              {
                "output_type": "display_data",
                "metadata": {
                  "tags": [],
                  "needs_background": "light"
                },
                "image/png": "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\n",
                "text/plain": "<Figure size 432x288 with 2 Axes>"
              },
              {
                "output_type": "display_data",
                "metadata": {
                  "tags": [],
                  "needs_background": "light"
                },
                "image/png": "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\n",
                "text/plain": "<Figure size 432x288 with 2 Axes>"
              },
              {
                "output_type": "display_data",
                "metadata": {
                  "tags": [],
                  "needs_background": "light"
                },
                "image/png": "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\n",
                "text/plain": "<Figure size 432x288 with 2 Axes>"
              },
              {
                "output_type": "display_data",
                "metadata": {
                  "tags": [],
                  "needs_background": "light"
                },
                "image/png": "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\n",
                "text/plain": "<Figure size 432x288 with 2 Axes>"
              }
            ],
            "_view_module": "@jupyter-widgets/output",
            "_model_module_version": "1.0.0",
            "_view_count": null,
            "_view_module_version": "1.0.0",
            "layout": "IPY_MODEL_e42b9d74e32d427781fbff431ec6c485",
            "_model_module": "@jupyter-widgets/output"
          }
        },
        "963fe36e9a1d4a879e0794a55bebe3f7": {
          "model_module": "@jupyter-widgets/controls",
          "model_name": "SliderStyleModel",
          "state": {
            "_view_name": "StyleView",
            "handle_color": null,
            "_model_name": "SliderStyleModel",
            "description_width": "",
            "_view_module": "@jupyter-widgets/base",
            "_model_module_version": "1.5.0",
            "_view_count": null,
            "_view_module_version": "1.2.0",
            "_model_module": "@jupyter-widgets/controls"
          }
        },
        "a59f51e77c284c8592cf1ce97e95c395": {
          "model_module": "@jupyter-widgets/base",
          "model_name": "LayoutModel",
          "state": {
            "_view_name": "LayoutView",
            "grid_template_rows": null,
            "right": null,
            "justify_content": null,
            "_view_module": "@jupyter-widgets/base",
            "overflow": null,
            "_model_module_version": "1.2.0",
            "_view_count": null,
            "flex_flow": null,
            "width": null,
            "min_width": null,
            "border": null,
            "align_items": null,
            "bottom": null,
            "_model_module": "@jupyter-widgets/base",
            "top": null,
            "grid_column": null,
            "overflow_y": null,
            "overflow_x": null,
            "grid_auto_flow": null,
            "grid_area": null,
            "grid_template_columns": null,
            "flex": null,
            "_model_name": "LayoutModel",
            "justify_items": null,
            "grid_row": null,
            "max_height": null,
            "align_content": null,
            "visibility": null,
            "align_self": null,
            "height": null,
            "min_height": null,
            "padding": null,
            "grid_auto_rows": null,
            "grid_gap": null,
            "max_width": null,
            "order": null,
            "_view_module_version": "1.2.0",
            "grid_template_areas": null,
            "object_position": null,
            "object_fit": null,
            "grid_auto_columns": null,
            "margin": null,
            "display": null,
            "left": null
          }
        },
        "b50c70738afd4627b68f15df5792325f": {
          "model_module": "@jupyter-widgets/controls",
          "model_name": "SliderStyleModel",
          "state": {
            "_view_name": "StyleView",
            "handle_color": null,
            "_model_name": "SliderStyleModel",
            "description_width": "",
            "_view_module": "@jupyter-widgets/base",
            "_model_module_version": "1.5.0",
            "_view_count": null,
            "_view_module_version": "1.2.0",
            "_model_module": "@jupyter-widgets/controls"
          }
        },
        "f05ffb7018104aa9aef738626d933a8a": {
          "model_module": "@jupyter-widgets/base",
          "model_name": "LayoutModel",
          "state": {
            "_view_name": "LayoutView",
            "grid_template_rows": null,
            "right": null,
            "justify_content": null,
            "_view_module": "@jupyter-widgets/base",
            "overflow": null,
            "_model_module_version": "1.2.0",
            "_view_count": null,
            "flex_flow": null,
            "width": null,
            "min_width": null,
            "border": null,
            "align_items": null,
            "bottom": null,
            "_model_module": "@jupyter-widgets/base",
            "top": null,
            "grid_column": null,
            "overflow_y": null,
            "overflow_x": null,
            "grid_auto_flow": null,
            "grid_area": null,
            "grid_template_columns": null,
            "flex": null,
            "_model_name": "LayoutModel",
            "justify_items": null,
            "grid_row": null,
            "max_height": null,
            "align_content": null,
            "visibility": null,
            "align_self": null,
            "height": null,
            "min_height": null,
            "padding": null,
            "grid_auto_rows": null,
            "grid_gap": null,
            "max_width": null,
            "order": null,
            "_view_module_version": "1.2.0",
            "grid_template_areas": null,
            "object_position": null,
            "object_fit": null,
            "grid_auto_columns": null,
            "margin": null,
            "display": null,
            "left": null
          }
        },
        "e42b9d74e32d427781fbff431ec6c485": {
          "model_module": "@jupyter-widgets/base",
          "model_name": "LayoutModel",
          "state": {
            "_view_name": "LayoutView",
            "grid_template_rows": null,
            "right": null,
            "justify_content": null,
            "_view_module": "@jupyter-widgets/base",
            "overflow": null,
            "_model_module_version": "1.2.0",
            "_view_count": null,
            "flex_flow": null,
            "width": null,
            "min_width": null,
            "border": null,
            "align_items": null,
            "bottom": null,
            "_model_module": "@jupyter-widgets/base",
            "top": null,
            "grid_column": null,
            "overflow_y": null,
            "overflow_x": null,
            "grid_auto_flow": null,
            "grid_area": null,
            "grid_template_columns": null,
            "flex": null,
            "_model_name": "LayoutModel",
            "justify_items": null,
            "grid_row": null,
            "max_height": null,
            "align_content": null,
            "visibility": null,
            "align_self": null,
            "height": null,
            "min_height": null,
            "padding": null,
            "grid_auto_rows": null,
            "grid_gap": null,
            "max_width": null,
            "order": null,
            "_view_module_version": "1.2.0",
            "grid_template_areas": null,
            "object_position": null,
            "object_fit": null,
            "grid_auto_columns": null,
            "margin": null,
            "display": null,
            "left": null
          }
        }
      }
    }
  },
  "cells": [
    {
      "cell_type": "markdown",
      "metadata": {
        "id": "view-in-github",
        "colab_type": "text"
      },
      "source": [
        "<a href=\"https://colab.research.google.com/github/Sid-Oya/DS-Unit-2-Kaggle-Challenge/blob/master/Copy_DS_222_RandomForests.ipynb\" target=\"_parent\"><img src=\"https://colab.research.google.com/assets/colab-badge.svg\" alt=\"Open In Colab\"/></a>"
      ]
    },
    {
      "cell_type": "markdown",
      "metadata": {
        "id": "UEHyIgGaaSEJ"
      },
      "source": [
        "Lambda School Data Science\n",
        "\n",
        "*Unit 2, Sprint 2, Module 2*\n",
        "\n",
        "---"
      ]
    },
    {
      "cell_type": "markdown",
      "metadata": {
        "id": "mRfPLX4WgLVJ"
      },
      "source": [
        "# Random Forests"
      ]
    },
    {
      "cell_type": "markdown",
      "metadata": {
        "id": "jRRNhkxcgLVK"
      },
      "source": [
        "- use scikit-learn for **random forests**\n",
        "- do **ordinal encoding** with high-cardinality categoricals\n",
        "- understand how categorical encodings affect trees differently compared to linear models\n",
        "- understand how tree ensembles reduce overfitting compared to a single decision tree with unlimited depth"
      ]
    },
    {
      "cell_type": "markdown",
      "metadata": {
        "id": "-3TH11e1gLVL"
      },
      "source": [
        "Today's lesson has two take-away messages:\n",
        "\n",
        "#### Try Tree Ensembles when you do machine learning with labeled, tabular data\n",
        "- \"Tree Ensembles\" means Random Forest or Gradient Boosting models. \n",
        "- [Tree Ensembles often have the best predictive accuracy](https://arxiv.org/abs/1708.05070) with labeled, tabular data.\n",
        "- Why? Because trees can fit non-linear, non-[monotonic](https://en.wikipedia.org/wiki/Monotonic_function) relationships, and [interactions](https://christophm.github.io/interpretable-ml-book/interaction.html) between features.\n",
        "- A single decision tree, grown to unlimited depth, will [overfit](http://www.r2d3.us/visual-intro-to-machine-learning-part-1/). We solve this problem by ensembling trees, with bagging (Random Forest) or boosting (Gradient Boosting).\n",
        "- Random Forest's advantage: may be less sensitive to hyperparameters. Gradient Boosting's advantage: may get better predictive accuracy.\n",
        "\n",
        "#### One-hot encoding isn’t the only way, and may not be the best way, of categorical encoding for tree ensembles.\n",
        "- For example, tree ensembles can work with arbitrary \"ordinal\" encoding! (Randomly assigning an integer to each category.) Compared to one-hot encoding, the dimensionality will be lower, and the predictive accuracy may be just as good or even better.\n"
      ]
    },
    {
      "cell_type": "markdown",
      "metadata": {
        "id": "r5PbOFEuFfGF"
      },
      "source": [
        "### Setup\n",
        "\n",
        "Run the code cell below. You can work locally (follow the [local setup instructions](https://lambdaschool.github.io/ds/unit2/local/)) or on Colab.\n",
        "\n",
        "Libraries\n",
        "\n",
        "- **category_encoders** \n",
        "- **graphviz**\n",
        "- ipywidgets\n",
        "- matplotlib\n",
        "- numpy\n",
        "- pandas\n",
        "- seaborn\n",
        "- scikit-learn"
      ]
    },
    {
      "cell_type": "code",
      "metadata": {
        "id": "FStAplyRFoEu"
      },
      "source": [
        "%%capture\n",
        "import sys\n",
        "\n",
        "# If you're on Colab:\n",
        "if 'google.colab' in sys.modules:\n",
        "    DATA_PATH = 'https://raw.githubusercontent.com/LambdaSchool/DS-Unit-2-Kaggle-Challenge/master/data/'\n",
        "    !pip install category_encoders==2.*\n",
        "\n",
        "# If you're working locally:\n",
        "else:\n",
        "    DATA_PATH = '../data/'"
      ],
      "execution_count": null,
      "outputs": []
    },
    {
      "cell_type": "markdown",
      "metadata": {
        "id": "ZL-yK8B7gLVW"
      },
      "source": [
        "# Use scikit-learn for random forests"
      ]
    },
    {
      "cell_type": "markdown",
      "metadata": {
        "id": "A4QAAgy6bZvt"
      },
      "source": [
        "## Overview\n",
        "\n",
        "Let's fit a Random Forest!\n",
        "\n",
        "![](https://pbs.twimg.com/media/EGSvKA0UUAEzUZi?format=png)\n",
        "\n",
        "[Chris Albon, MachineLearningFlashcards.com](https://twitter.com/chrisalbon/status/1181261589887909889)"
      ]
    },
    {
      "cell_type": "markdown",
      "metadata": {
        "id": "gHFxMCPSgLVM"
      },
      "source": [
        "### Solution example\n",
        "\n",
        "First, read & wrangle the data.\n",
        "\n",
        "> Define a function to wrangle train, validate, and test sets in the same way. Clean outliers and engineer features. (For example, [what other columns have zeros and shouldn't?](https://github.com/Quartz/bad-data-guide#zeros-replace-missing-values) What other columns are duplicates, or nearly duplicates? Can you extract the year from date_recorded? Can you engineer new features, such as the number of years from waterpump construction to waterpump inspection?)"
      ]
    },
    {
      "cell_type": "code",
      "metadata": {
        "id": "YTLm-rDagLVM"
      },
      "source": [
        "import numpy as np\n",
        "import pandas as pd\n",
        "from sklearn.model_selection import train_test_split\n",
        "\n",
        "# Merge train_features.csv & train_labels.csv\n",
        "train = pd.merge(pd.read_csv(DATA_PATH+'waterpumps/train_features.csv'), \n",
        "                 pd.read_csv(DATA_PATH+'waterpumps/train_labels.csv'))\n",
        "\n",
        "# Read test_features.csv & sample_submission.csv\n",
        "test = pd.read_csv(DATA_PATH+'waterpumps/test_features.csv')\n",
        "sample_submission = pd.read_csv(DATA_PATH+'waterpumps/sample_submission.csv')\n",
        "\n",
        "# Split train into train & val\n",
        "train, val = train_test_split(train, train_size=0.80, test_size=0.20, \n",
        "                              stratify=train['status_group'], random_state=42)\n",
        "\n",
        "\n",
        "def wrangle(X):\n",
        "    \"\"\"Wrangle train, validate, and test sets in the same way\"\"\"\n",
        "    \n",
        "    # Prevent SettingWithCopyWarning\n",
        "    X = X.copy()\n",
        "    \n",
        "    # About 3% of the time, latitude has small values near zero,\n",
        "    # outside Tanzania, so we'll treat these values like zero.\n",
        "    # Remove Null island (sometimes outliers will be coded as an extreme number)\n",
        "    X['latitude'] = X['latitude'].replace(-2e-08, 0)\n",
        "    \n",
        "    # When columns have zeros and shouldn't, they are like null values.\n",
        "    # So we will replace the zeros with nulls, and impute missing values later.\n",
        "    # Also create a \"missing indicator\" column, because the fact that\n",
        "    # values are missing may be a predictive signal.\n",
        "    cols_with_zeros = ['longitude', 'latitude', 'construction_year', \n",
        "                       'gps_height', 'population']\n",
        "    for col in cols_with_zeros:\n",
        "        X[col] = X[col].replace(0, np.nan)\n",
        "        X[col+'_MISSING'] = X[col].isnull()\n",
        "            \n",
        "    # Drop duplicate columns\n",
        "    duplicates = ['quantity_group', 'payment_type']\n",
        "    X = X.drop(columns=duplicates)\n",
        "    \n",
        "    # Drop recorded_by (never varies) and id (always varies, random)\n",
        "    unusable_variance = ['recorded_by', 'id']\n",
        "    X = X.drop(columns=unusable_variance)\n",
        "    \n",
        "    # Convert date_recorded to datetime\n",
        "    X['date_recorded'] = pd.to_datetime(X['date_recorded'], infer_datetime_format=True)\n",
        "    \n",
        "    # Extract components from date_recorded, then drop the original column\n",
        "    X['year_recorded'] = X['date_recorded'].dt.year\n",
        "    X['month_recorded'] = X['date_recorded'].dt.month\n",
        "    X['day_recorded'] = X['date_recorded'].dt.day\n",
        "    X = X.drop(columns='date_recorded')\n",
        "    \n",
        "    # Engineer feature: how many years from construction_year to date_recorded\n",
        "    X['years'] = X['year_recorded'] - X['construction_year']\n",
        "    X['years_MISSING'] = X['years'].isnull()\n",
        "    \n",
        "    # return the wrangled dataframe\n",
        "    return X\n",
        "\n",
        "train = wrangle(train)\n",
        "val = wrangle(val)\n",
        "test = wrangle(test)\n"
      ],
      "execution_count": null,
      "outputs": []
    },
    {
      "cell_type": "code",
      "metadata": {
        "id": "-RjAtnwoyFVD",
        "outputId": "f16f3055-ff1a-4262-af1c-c6b2fdf0badf",
        "colab": {
          "base_uri": "https://localhost:8080/",
          "height": 721
        }
      },
      "source": [
        "train"
      ],
      "execution_count": null,
      "outputs": [
        {
          "output_type": "execute_result",
          "data": {
            "text/html": [
              "<div>\n",
              "<style scoped>\n",
              "    .dataframe tbody tr th:only-of-type {\n",
              "        vertical-align: middle;\n",
              "    }\n",
              "\n",
              "    .dataframe tbody tr th {\n",
              "        vertical-align: top;\n",
              "    }\n",
              "\n",
              "    .dataframe thead th {\n",
              "        text-align: right;\n",
              "    }\n",
              "</style>\n",
              "<table border=\"1\" class=\"dataframe\">\n",
              "  <thead>\n",
              "    <tr style=\"text-align: right;\">\n",
              "      <th></th>\n",
              "      <th>amount_tsh</th>\n",
              "      <th>funder</th>\n",
              "      <th>gps_height</th>\n",
              "      <th>installer</th>\n",
              "      <th>longitude</th>\n",
              "      <th>latitude</th>\n",
              "      <th>wpt_name</th>\n",
              "      <th>num_private</th>\n",
              "      <th>basin</th>\n",
              "      <th>subvillage</th>\n",
              "      <th>region</th>\n",
              "      <th>region_code</th>\n",
              "      <th>district_code</th>\n",
              "      <th>lga</th>\n",
              "      <th>ward</th>\n",
              "      <th>population</th>\n",
              "      <th>public_meeting</th>\n",
              "      <th>scheme_management</th>\n",
              "      <th>scheme_name</th>\n",
              "      <th>permit</th>\n",
              "      <th>construction_year</th>\n",
              "      <th>extraction_type</th>\n",
              "      <th>extraction_type_group</th>\n",
              "      <th>extraction_type_class</th>\n",
              "      <th>management</th>\n",
              "      <th>management_group</th>\n",
              "      <th>payment</th>\n",
              "      <th>water_quality</th>\n",
              "      <th>quality_group</th>\n",
              "      <th>quantity</th>\n",
              "      <th>source</th>\n",
              "      <th>source_type</th>\n",
              "      <th>source_class</th>\n",
              "      <th>waterpoint_type</th>\n",
              "      <th>waterpoint_type_group</th>\n",
              "      <th>status_group</th>\n",
              "      <th>longitude_MISSING</th>\n",
              "      <th>latitude_MISSING</th>\n",
              "      <th>construction_year_MISSING</th>\n",
              "      <th>gps_height_MISSING</th>\n",
              "      <th>population_MISSING</th>\n",
              "      <th>year_recorded</th>\n",
              "      <th>month_recorded</th>\n",
              "      <th>day_recorded</th>\n",
              "      <th>years</th>\n",
              "      <th>years_MISSING</th>\n",
              "    </tr>\n",
              "  </thead>\n",
              "  <tbody>\n",
              "    <tr>\n",
              "      <th>43360</th>\n",
              "      <td>0.0</td>\n",
              "      <td>NaN</td>\n",
              "      <td>NaN</td>\n",
              "      <td>NaN</td>\n",
              "      <td>33.542898</td>\n",
              "      <td>-9.174777</td>\n",
              "      <td>Kwa Mzee Noa</td>\n",
              "      <td>0</td>\n",
              "      <td>Lake Nyasa</td>\n",
              "      <td>Mpandapanda</td>\n",
              "      <td>Mbeya</td>\n",
              "      <td>12</td>\n",
              "      <td>4</td>\n",
              "      <td>Rungwe</td>\n",
              "      <td>Kiwira</td>\n",
              "      <td>NaN</td>\n",
              "      <td>True</td>\n",
              "      <td>VWC</td>\n",
              "      <td>K</td>\n",
              "      <td>NaN</td>\n",
              "      <td>NaN</td>\n",
              "      <td>gravity</td>\n",
              "      <td>gravity</td>\n",
              "      <td>gravity</td>\n",
              "      <td>vwc</td>\n",
              "      <td>user-group</td>\n",
              "      <td>never pay</td>\n",
              "      <td>soft</td>\n",
              "      <td>good</td>\n",
              "      <td>insufficient</td>\n",
              "      <td>spring</td>\n",
              "      <td>spring</td>\n",
              "      <td>groundwater</td>\n",
              "      <td>communal standpipe</td>\n",
              "      <td>communal standpipe</td>\n",
              "      <td>functional</td>\n",
              "      <td>False</td>\n",
              "      <td>False</td>\n",
              "      <td>True</td>\n",
              "      <td>True</td>\n",
              "      <td>True</td>\n",
              "      <td>2011</td>\n",
              "      <td>7</td>\n",
              "      <td>27</td>\n",
              "      <td>NaN</td>\n",
              "      <td>True</td>\n",
              "    </tr>\n",
              "    <tr>\n",
              "      <th>7263</th>\n",
              "      <td>500.0</td>\n",
              "      <td>Rc Church</td>\n",
              "      <td>2049.0</td>\n",
              "      <td>ACRA</td>\n",
              "      <td>34.665760</td>\n",
              "      <td>-9.308548</td>\n",
              "      <td>Kwa Yasinta Ng'Ande</td>\n",
              "      <td>0</td>\n",
              "      <td>Rufiji</td>\n",
              "      <td>Kitichi</td>\n",
              "      <td>Iringa</td>\n",
              "      <td>11</td>\n",
              "      <td>4</td>\n",
              "      <td>Njombe</td>\n",
              "      <td>Imalinyi</td>\n",
              "      <td>175.0</td>\n",
              "      <td>True</td>\n",
              "      <td>WUA</td>\n",
              "      <td>Tove Mtwango gravity Scheme</td>\n",
              "      <td>True</td>\n",
              "      <td>2008.0</td>\n",
              "      <td>gravity</td>\n",
              "      <td>gravity</td>\n",
              "      <td>gravity</td>\n",
              "      <td>wua</td>\n",
              "      <td>user-group</td>\n",
              "      <td>pay monthly</td>\n",
              "      <td>soft</td>\n",
              "      <td>good</td>\n",
              "      <td>enough</td>\n",
              "      <td>spring</td>\n",
              "      <td>spring</td>\n",
              "      <td>groundwater</td>\n",
              "      <td>communal standpipe</td>\n",
              "      <td>communal standpipe</td>\n",
              "      <td>functional</td>\n",
              "      <td>False</td>\n",
              "      <td>False</td>\n",
              "      <td>False</td>\n",
              "      <td>False</td>\n",
              "      <td>False</td>\n",
              "      <td>2011</td>\n",
              "      <td>3</td>\n",
              "      <td>23</td>\n",
              "      <td>3.0</td>\n",
              "      <td>False</td>\n",
              "    </tr>\n",
              "    <tr>\n",
              "      <th>2486</th>\n",
              "      <td>25.0</td>\n",
              "      <td>Donor</td>\n",
              "      <td>290.0</td>\n",
              "      <td>Do</td>\n",
              "      <td>38.238568</td>\n",
              "      <td>-6.179919</td>\n",
              "      <td>Kwasungwini</td>\n",
              "      <td>0</td>\n",
              "      <td>Wami / Ruvu</td>\n",
              "      <td>Kwedigongo</td>\n",
              "      <td>Pwani</td>\n",
              "      <td>6</td>\n",
              "      <td>1</td>\n",
              "      <td>Bagamoyo</td>\n",
              "      <td>Mbwewe</td>\n",
              "      <td>2300.0</td>\n",
              "      <td>True</td>\n",
              "      <td>VWC</td>\n",
              "      <td>NaN</td>\n",
              "      <td>False</td>\n",
              "      <td>2010.0</td>\n",
              "      <td>india mark ii</td>\n",
              "      <td>india mark ii</td>\n",
              "      <td>handpump</td>\n",
              "      <td>vwc</td>\n",
              "      <td>user-group</td>\n",
              "      <td>pay per bucket</td>\n",
              "      <td>salty</td>\n",
              "      <td>salty</td>\n",
              "      <td>insufficient</td>\n",
              "      <td>shallow well</td>\n",
              "      <td>shallow well</td>\n",
              "      <td>groundwater</td>\n",
              "      <td>hand pump</td>\n",
              "      <td>hand pump</td>\n",
              "      <td>functional</td>\n",
              "      <td>False</td>\n",
              "      <td>False</td>\n",
              "      <td>False</td>\n",
              "      <td>False</td>\n",
              "      <td>False</td>\n",
              "      <td>2011</td>\n",
              "      <td>3</td>\n",
              "      <td>7</td>\n",
              "      <td>1.0</td>\n",
              "      <td>False</td>\n",
              "    </tr>\n",
              "    <tr>\n",
              "      <th>313</th>\n",
              "      <td>0.0</td>\n",
              "      <td>Government Of Tanzania</td>\n",
              "      <td>NaN</td>\n",
              "      <td>DWE</td>\n",
              "      <td>30.716727</td>\n",
              "      <td>-1.289055</td>\n",
              "      <td>Kwajovin 2</td>\n",
              "      <td>0</td>\n",
              "      <td>Lake Victoria</td>\n",
              "      <td>Kihanga</td>\n",
              "      <td>Kagera</td>\n",
              "      <td>18</td>\n",
              "      <td>1</td>\n",
              "      <td>Karagwe</td>\n",
              "      <td>Isingiro</td>\n",
              "      <td>NaN</td>\n",
              "      <td>True</td>\n",
              "      <td>NaN</td>\n",
              "      <td>NaN</td>\n",
              "      <td>True</td>\n",
              "      <td>NaN</td>\n",
              "      <td>other</td>\n",
              "      <td>other</td>\n",
              "      <td>other</td>\n",
              "      <td>vwc</td>\n",
              "      <td>user-group</td>\n",
              "      <td>never pay</td>\n",
              "      <td>soft</td>\n",
              "      <td>good</td>\n",
              "      <td>enough</td>\n",
              "      <td>shallow well</td>\n",
              "      <td>shallow well</td>\n",
              "      <td>groundwater</td>\n",
              "      <td>other</td>\n",
              "      <td>other</td>\n",
              "      <td>non functional</td>\n",
              "      <td>False</td>\n",
              "      <td>False</td>\n",
              "      <td>True</td>\n",
              "      <td>True</td>\n",
              "      <td>True</td>\n",
              "      <td>2011</td>\n",
              "      <td>7</td>\n",
              "      <td>31</td>\n",
              "      <td>NaN</td>\n",
              "      <td>True</td>\n",
              "    </tr>\n",
              "    <tr>\n",
              "      <th>52726</th>\n",
              "      <td>0.0</td>\n",
              "      <td>Water</td>\n",
              "      <td>NaN</td>\n",
              "      <td>Gove</td>\n",
              "      <td>35.389331</td>\n",
              "      <td>-6.399942</td>\n",
              "      <td>Chama</td>\n",
              "      <td>0</td>\n",
              "      <td>Internal</td>\n",
              "      <td>Mtakuj</td>\n",
              "      <td>Dodoma</td>\n",
              "      <td>1</td>\n",
              "      <td>6</td>\n",
              "      <td>Bahi</td>\n",
              "      <td>Nondwa</td>\n",
              "      <td>NaN</td>\n",
              "      <td>True</td>\n",
              "      <td>VWC</td>\n",
              "      <td>Zeje</td>\n",
              "      <td>True</td>\n",
              "      <td>NaN</td>\n",
              "      <td>mono</td>\n",
              "      <td>mono</td>\n",
              "      <td>motorpump</td>\n",
              "      <td>vwc</td>\n",
              "      <td>user-group</td>\n",
              "      <td>pay per bucket</td>\n",
              "      <td>soft</td>\n",
              "      <td>good</td>\n",
              "      <td>enough</td>\n",
              "      <td>machine dbh</td>\n",
              "      <td>borehole</td>\n",
              "      <td>groundwater</td>\n",
              "      <td>communal standpipe</td>\n",
              "      <td>communal standpipe</td>\n",
              "      <td>functional</td>\n",
              "      <td>False</td>\n",
              "      <td>False</td>\n",
              "      <td>True</td>\n",
              "      <td>True</td>\n",
              "      <td>True</td>\n",
              "      <td>2011</td>\n",
              "      <td>3</td>\n",
              "      <td>10</td>\n",
              "      <td>NaN</td>\n",
              "      <td>True</td>\n",
              "    </tr>\n",
              "    <tr>\n",
              "      <th>...</th>\n",
              "      <td>...</td>\n",
              "      <td>...</td>\n",
              "      <td>...</td>\n",
              "      <td>...</td>\n",
              "      <td>...</td>\n",
              "      <td>...</td>\n",
              "      <td>...</td>\n",
              "      <td>...</td>\n",
              "      <td>...</td>\n",
              "      <td>...</td>\n",
              "      <td>...</td>\n",
              "      <td>...</td>\n",
              "      <td>...</td>\n",
              "      <td>...</td>\n",
              "      <td>...</td>\n",
              "      <td>...</td>\n",
              "      <td>...</td>\n",
              "      <td>...</td>\n",
              "      <td>...</td>\n",
              "      <td>...</td>\n",
              "      <td>...</td>\n",
              "      <td>...</td>\n",
              "      <td>...</td>\n",
              "      <td>...</td>\n",
              "      <td>...</td>\n",
              "      <td>...</td>\n",
              "      <td>...</td>\n",
              "      <td>...</td>\n",
              "      <td>...</td>\n",
              "      <td>...</td>\n",
              "      <td>...</td>\n",
              "      <td>...</td>\n",
              "      <td>...</td>\n",
              "      <td>...</td>\n",
              "      <td>...</td>\n",
              "      <td>...</td>\n",
              "      <td>...</td>\n",
              "      <td>...</td>\n",
              "      <td>...</td>\n",
              "      <td>...</td>\n",
              "      <td>...</td>\n",
              "      <td>...</td>\n",
              "      <td>...</td>\n",
              "      <td>...</td>\n",
              "      <td>...</td>\n",
              "      <td>...</td>\n",
              "    </tr>\n",
              "    <tr>\n",
              "      <th>9795</th>\n",
              "      <td>50.0</td>\n",
              "      <td>Wd And Id</td>\n",
              "      <td>489.0</td>\n",
              "      <td>WD and ID</td>\n",
              "      <td>38.268574</td>\n",
              "      <td>-5.450254</td>\n",
              "      <td>Kwa Maseko</td>\n",
              "      <td>4</td>\n",
              "      <td>Pangani</td>\n",
              "      <td>Komfungo A</td>\n",
              "      <td>Tanga</td>\n",
              "      <td>4</td>\n",
              "      <td>6</td>\n",
              "      <td>Handeni</td>\n",
              "      <td>Sindeni</td>\n",
              "      <td>1300.0</td>\n",
              "      <td>True</td>\n",
              "      <td>VWC</td>\n",
              "      <td>WD and ID</td>\n",
              "      <td>False</td>\n",
              "      <td>2009.0</td>\n",
              "      <td>submersible</td>\n",
              "      <td>submersible</td>\n",
              "      <td>submersible</td>\n",
              "      <td>vwc</td>\n",
              "      <td>user-group</td>\n",
              "      <td>pay per bucket</td>\n",
              "      <td>soft</td>\n",
              "      <td>good</td>\n",
              "      <td>enough</td>\n",
              "      <td>river</td>\n",
              "      <td>river/lake</td>\n",
              "      <td>surface</td>\n",
              "      <td>communal standpipe</td>\n",
              "      <td>communal standpipe</td>\n",
              "      <td>non functional</td>\n",
              "      <td>False</td>\n",
              "      <td>False</td>\n",
              "      <td>False</td>\n",
              "      <td>False</td>\n",
              "      <td>False</td>\n",
              "      <td>2011</td>\n",
              "      <td>3</td>\n",
              "      <td>28</td>\n",
              "      <td>2.0</td>\n",
              "      <td>False</td>\n",
              "    </tr>\n",
              "    <tr>\n",
              "      <th>58170</th>\n",
              "      <td>0.0</td>\n",
              "      <td>Danida</td>\n",
              "      <td>NaN</td>\n",
              "      <td>Central government</td>\n",
              "      <td>33.926294</td>\n",
              "      <td>-9.641293</td>\n",
              "      <td>Kwa Asajile Mwangomale</td>\n",
              "      <td>0</td>\n",
              "      <td>Lake Nyasa</td>\n",
              "      <td>Mpanda</td>\n",
              "      <td>Mbeya</td>\n",
              "      <td>12</td>\n",
              "      <td>3</td>\n",
              "      <td>Kyela</td>\n",
              "      <td>Bujonde</td>\n",
              "      <td>NaN</td>\n",
              "      <td>True</td>\n",
              "      <td>VWC</td>\n",
              "      <td>Ngana water supplied scheme</td>\n",
              "      <td>True</td>\n",
              "      <td>NaN</td>\n",
              "      <td>gravity</td>\n",
              "      <td>gravity</td>\n",
              "      <td>gravity</td>\n",
              "      <td>vwc</td>\n",
              "      <td>user-group</td>\n",
              "      <td>never pay</td>\n",
              "      <td>soft</td>\n",
              "      <td>good</td>\n",
              "      <td>dry</td>\n",
              "      <td>spring</td>\n",
              "      <td>spring</td>\n",
              "      <td>groundwater</td>\n",
              "      <td>communal standpipe</td>\n",
              "      <td>communal standpipe</td>\n",
              "      <td>non functional</td>\n",
              "      <td>False</td>\n",
              "      <td>False</td>\n",
              "      <td>True</td>\n",
              "      <td>True</td>\n",
              "      <td>True</td>\n",
              "      <td>2011</td>\n",
              "      <td>12</td>\n",
              "      <td>7</td>\n",
              "      <td>NaN</td>\n",
              "      <td>True</td>\n",
              "    </tr>\n",
              "    <tr>\n",
              "      <th>17191</th>\n",
              "      <td>0.0</td>\n",
              "      <td>World Bank</td>\n",
              "      <td>599.0</td>\n",
              "      <td>Nandra Construction</td>\n",
              "      <td>39.262924</td>\n",
              "      <td>-10.768079</td>\n",
              "      <td>Shuleni</td>\n",
              "      <td>0</td>\n",
              "      <td>Ruvuma / Southern Coast</td>\n",
              "      <td>Kilimahewa</td>\n",
              "      <td>Mtwara</td>\n",
              "      <td>90</td>\n",
              "      <td>33</td>\n",
              "      <td>Newala</td>\n",
              "      <td>Mchemo</td>\n",
              "      <td>1.0</td>\n",
              "      <td>True</td>\n",
              "      <td>VWC</td>\n",
              "      <td>Malatu Chini</td>\n",
              "      <td>False</td>\n",
              "      <td>2012.0</td>\n",
              "      <td>submersible</td>\n",
              "      <td>submersible</td>\n",
              "      <td>submersible</td>\n",
              "      <td>vwc</td>\n",
              "      <td>user-group</td>\n",
              "      <td>other</td>\n",
              "      <td>soft</td>\n",
              "      <td>good</td>\n",
              "      <td>enough</td>\n",
              "      <td>machine dbh</td>\n",
              "      <td>borehole</td>\n",
              "      <td>groundwater</td>\n",
              "      <td>communal standpipe multiple</td>\n",
              "      <td>communal standpipe</td>\n",
              "      <td>non functional</td>\n",
              "      <td>False</td>\n",
              "      <td>False</td>\n",
              "      <td>False</td>\n",
              "      <td>False</td>\n",
              "      <td>False</td>\n",
              "      <td>2013</td>\n",
              "      <td>2</td>\n",
              "      <td>2</td>\n",
              "      <td>1.0</td>\n",
              "      <td>False</td>\n",
              "    </tr>\n",
              "    <tr>\n",
              "      <th>8192</th>\n",
              "      <td>30.0</td>\n",
              "      <td>Finida German Tanzania Govt</td>\n",
              "      <td>426.0</td>\n",
              "      <td>Finwater</td>\n",
              "      <td>39.348550</td>\n",
              "      <td>-10.642069</td>\n",
              "      <td>Tangini</td>\n",
              "      <td>0</td>\n",
              "      <td>Ruvuma / Southern Coast</td>\n",
              "      <td>Tangini</td>\n",
              "      <td>Mtwara</td>\n",
              "      <td>90</td>\n",
              "      <td>33</td>\n",
              "      <td>Newala</td>\n",
              "      <td>Kitangari</td>\n",
              "      <td>320.0</td>\n",
              "      <td>True</td>\n",
              "      <td>VWC</td>\n",
              "      <td>Mitema</td>\n",
              "      <td>False</td>\n",
              "      <td>1988.0</td>\n",
              "      <td>submersible</td>\n",
              "      <td>submersible</td>\n",
              "      <td>submersible</td>\n",
              "      <td>vwc</td>\n",
              "      <td>user-group</td>\n",
              "      <td>pay per bucket</td>\n",
              "      <td>soft</td>\n",
              "      <td>good</td>\n",
              "      <td>insufficient</td>\n",
              "      <td>machine dbh</td>\n",
              "      <td>borehole</td>\n",
              "      <td>groundwater</td>\n",
              "      <td>communal standpipe multiple</td>\n",
              "      <td>communal standpipe</td>\n",
              "      <td>functional</td>\n",
              "      <td>False</td>\n",
              "      <td>False</td>\n",
              "      <td>False</td>\n",
              "      <td>False</td>\n",
              "      <td>False</td>\n",
              "      <td>2013</td>\n",
              "      <td>2</td>\n",
              "      <td>7</td>\n",
              "      <td>25.0</td>\n",
              "      <td>False</td>\n",
              "    </tr>\n",
              "    <tr>\n",
              "      <th>49783</th>\n",
              "      <td>50.0</td>\n",
              "      <td>Government Of Tanzania</td>\n",
              "      <td>501.0</td>\n",
              "      <td>RWE</td>\n",
              "      <td>37.562148</td>\n",
              "      <td>-6.888409</td>\n",
              "      <td>Kwa Ndeseme</td>\n",
              "      <td>0</td>\n",
              "      <td>Wami / Ruvu</td>\n",
              "      <td>Masanze</td>\n",
              "      <td>Morogoro</td>\n",
              "      <td>5</td>\n",
              "      <td>6</td>\n",
              "      <td>Mvomero</td>\n",
              "      <td>Mzumbe</td>\n",
              "      <td>90.0</td>\n",
              "      <td>True</td>\n",
              "      <td>VWC</td>\n",
              "      <td>Tangeni</td>\n",
              "      <td>True</td>\n",
              "      <td>1982.0</td>\n",
              "      <td>gravity</td>\n",
              "      <td>gravity</td>\n",
              "      <td>gravity</td>\n",
              "      <td>vwc</td>\n",
              "      <td>user-group</td>\n",
              "      <td>pay per bucket</td>\n",
              "      <td>soft</td>\n",
              "      <td>good</td>\n",
              "      <td>enough</td>\n",
              "      <td>river</td>\n",
              "      <td>river/lake</td>\n",
              "      <td>surface</td>\n",
              "      <td>communal standpipe</td>\n",
              "      <td>communal standpipe</td>\n",
              "      <td>functional</td>\n",
              "      <td>False</td>\n",
              "      <td>False</td>\n",
              "      <td>False</td>\n",
              "      <td>False</td>\n",
              "      <td>False</td>\n",
              "      <td>2011</td>\n",
              "      <td>3</td>\n",
              "      <td>6</td>\n",
              "      <td>29.0</td>\n",
              "      <td>False</td>\n",
              "    </tr>\n",
              "  </tbody>\n",
              "</table>\n",
              "<p>47520 rows × 46 columns</p>\n",
              "</div>"
            ],
            "text/plain": [
              "       amount_tsh                       funder  ...  years years_MISSING\n",
              "43360         0.0                          NaN  ...    NaN          True\n",
              "7263        500.0                    Rc Church  ...    3.0         False\n",
              "2486         25.0                        Donor  ...    1.0         False\n",
              "313           0.0       Government Of Tanzania  ...    NaN          True\n",
              "52726         0.0                        Water  ...    NaN          True\n",
              "...           ...                          ...  ...    ...           ...\n",
              "9795         50.0                    Wd And Id  ...    2.0         False\n",
              "58170         0.0                       Danida  ...    NaN          True\n",
              "17191         0.0                   World Bank  ...    1.0         False\n",
              "8192         30.0  Finida German Tanzania Govt  ...   25.0         False\n",
              "49783        50.0       Government Of Tanzania  ...   29.0         False\n",
              "\n",
              "[47520 rows x 46 columns]"
            ]
          },
          "metadata": {
            "tags": []
          },
          "execution_count": 15
        }
      ]
    },
    {
      "cell_type": "code",
      "metadata": {
        "id": "m2HppBvZgLVP"
      },
      "source": [
        "# The status_group column is the target\n",
        "target = 'status_group'\n",
        "\n",
        "# Get a dataframe with all train columns except the target\n",
        "train_features = train.drop(columns=[target])\n",
        "\n",
        "# Get a list of the numeric features\n",
        "numeric_features = train_features.select_dtypes(include='number').columns.tolist()\n",
        "\n",
        "# Get a series with the cardinality of the nonnumeric features\n",
        "cardinality = train_features.select_dtypes(exclude='number').nunique()\n",
        "\n",
        "# Get a list of all categorical features with cardinality <= 50\n",
        "categorical_features = cardinality[cardinality <= 50].index.tolist()\n",
        "\n",
        "# Combine the lists \n",
        "features = numeric_features + categorical_features"
      ],
      "execution_count": null,
      "outputs": []
    },
    {
      "cell_type": "code",
      "metadata": {
        "id": "aXmK2brXgLVR"
      },
      "source": [
        "# Arrange data into X features matrix and y target vector \n",
        "X_train = train[features]\n",
        "y_train = train[target]\n",
        "X_val = val[features]\n",
        "y_val = val[target]\n",
        "X_test = test[features]"
      ],
      "execution_count": null,
      "outputs": []
    },
    {
      "cell_type": "code",
      "metadata": {
        "id": "Qrj-bKUc1EnR"
      },
      "source": [
        "%matplotlib inline\n",
        "import matplotlib.pyplot as plt\n",
        "\n",
        "#Pull out encoder to get the encoded values (one hot encoded values)\n",
        "#  encoder = pipeline.named_steps['onehotencoder']\n",
        "#  encoded = encoder.transform(X_train)\n",
        "\n",
        "#pull out the RF object object by using named_steps\n",
        "# # Get feature importances\n",
        "# rf = pipeline.named_steps['randomforestclassifier']\n",
        "\n",
        "#define a series that includes the feature importances\n",
        "# importances = pd.Series(rf.feature_importances_, encoded.columns)\n",
        "\n",
        "# # Plot top n feature importances\n",
        "# n = 20\n",
        "# plt.figure(figsize=(10,n/2))\n",
        "# plt.title(f'Top {n} features')\n",
        "# importances.sort_values()[-n:].plot.barh();\n",
        "\n"
      ],
      "execution_count": null,
      "outputs": []
    },
    {
      "cell_type": "markdown",
      "metadata": {
        "id": "C62bsOsWbZwL"
      },
      "source": [
        "## Follow Along\n",
        "\n",
        "[Scikit-Learn User Guide: Random Forests](https://scikit-learn.org/stable/modules/ensemble.html#random-forests) "
      ]
    },
    {
      "cell_type": "markdown",
      "metadata": {
        "id": "yfyk_aa5gLVY"
      },
      "source": [
        "# Do ordinal encoding with high-cardinality categoricals"
      ]
    },
    {
      "cell_type": "markdown",
      "metadata": {
        "id": "FC-voq6_bZwY"
      },
      "source": [
        "## Overview\n",
        "\n",
        "https://contrib.scikit-learn.org/category_encoders/ordinal.html"
      ]
    },
    {
      "cell_type": "markdown",
      "metadata": {
        "id": "RmIQqLRHbZwZ"
      },
      "source": [
        "## Follow Along"
      ]
    },
    {
      "cell_type": "code",
      "metadata": {
        "id": "b8d_WJtcgLVZ",
        "outputId": "c78b2d54-51ac-41d4-9efd-5c3734e91526",
        "colab": {
          "base_uri": "https://localhost:8080/",
          "height": 70
        }
      },
      "source": [
        "%%time\n",
        "# TODO\n",
        "import category_encoders as ce\n",
        "#from sklearn.tree import DecisionTreeClassifier\n",
        "from sklearn.ensemble import RandomForestClassifier\n",
        "from sklearn.impute import SimpleImputer\n",
        "from sklearn.pipeline import make_pipeline\n",
        "\n",
        "# pipeline = make_pipeline(\n",
        "#     ce.OneHotEncoder(use_cat_names=True),\n",
        "#     SimpleImputer(strategy='mean'), \n",
        "#     StandardScaler(), \n",
        "#     LogisticRegression(multi_class='auto', solver='lbfgs', n_jobs=-1)\n",
        "# )\n",
        "\n",
        "pipeline = make_pipeline(\n",
        "    ce.OneHotEncoder(use_cat_names=True), \n",
        "    SimpleImputer(strategy='median'), \n",
        "    RandomForestClassifier(random_state=0, n_jobs=1)\n",
        ")\n",
        "\n",
        "# Fit on train, score on val\n",
        "pipeline.fit(X_train, y_train)\n",
        "print('Validation Accuracy', pipeline.score(X_val, y_val))\n"
      ],
      "execution_count": null,
      "outputs": [
        {
          "output_type": "stream",
          "text": [
            "Validation Accuracy 0.8088383838383838\n",
            "CPU times: user 20 s, sys: 98 ms, total: 20.1 s\n",
            "Wall time: 20.1 s\n"
          ],
          "name": "stdout"
        }
      ]
    },
    {
      "cell_type": "code",
      "metadata": {
        "id": "JIwkDU5Dv_Gf"
      },
      "source": [
        ""
      ],
      "execution_count": null,
      "outputs": []
    },
    {
      "cell_type": "code",
      "metadata": {
        "id": "P_hPPgdiuRus"
      },
      "source": [
        "#rewrite so ALL features are in training set\n",
        "\n",
        "X_train = train.drop(columns=target)\n",
        "\n",
        "y_train = train[target]\n",
        "X_val = val.drop(columns=target)\n",
        "y_val = val[target]\n",
        "X_test = test"
      ],
      "execution_count": null,
      "outputs": []
    },
    {
      "cell_type": "code",
      "metadata": {
        "id": "zwPOZvRcvUw-"
      },
      "source": [
        "pipeline = make_pipeline(\n",
        "    ce.OrdinalEncoder(), \n",
        "    SimpleImputer(strategy='median'), \n",
        "    RandomForestClassifier(random_state=0, n_jobs=-1)\n",
        "  \n",
        ")"
      ],
      "execution_count": null,
      "outputs": []
    },
    {
      "cell_type": "code",
      "metadata": {
        "id": "Tc130aZ6vkiH",
        "outputId": "c1915f51-8700-4936-da4d-5f36697f8187",
        "colab": {
          "base_uri": "https://localhost:8080/",
          "height": 35
        }
      },
      "source": [
        "# Fit on train, score on val\n",
        "pipeline.fit(X_train, y_train)\n",
        "print('Validation Accuracy', pipeline.score(X_val, y_val))"
      ],
      "execution_count": null,
      "outputs": [
        {
          "output_type": "stream",
          "text": [
            "Validation Accuracy 0.8092592592592592\n"
          ],
          "name": "stdout"
        }
      ]
    },
    {
      "cell_type": "markdown",
      "metadata": {
        "id": "xs2UPoVdgLVp"
      },
      "source": [
        "# Understand how categorical encodings affect trees differently compared to linear models"
      ]
    },
    {
      "cell_type": "markdown",
      "metadata": {
        "id": "nwyeOd0BbZwn"
      },
      "source": [
        "## Follow Along"
      ]
    },
    {
      "cell_type": "markdown",
      "metadata": {
        "id": "z8V-A92mgLVp"
      },
      "source": [
        "### Categorical exploration, 1 feature at a time\n",
        "\n",
        "Change `feature`, then re-run these cells!"
      ]
    },
    {
      "cell_type": "code",
      "metadata": {
        "id": "G35RAzVdgLVq"
      },
      "source": [
        "feature = 'extraction_type_class'"
      ],
      "execution_count": null,
      "outputs": []
    },
    {
      "cell_type": "code",
      "metadata": {
        "id": "OuxHWiH8gLVr",
        "outputId": "f6ec14fb-4014-40d5-cabe-3628395419e6",
        "colab": {
          "base_uri": "https://localhost:8080/",
          "height": 159
        }
      },
      "source": [
        "X_train[feature].value_counts()"
      ],
      "execution_count": null,
      "outputs": [
        {
          "output_type": "execute_result",
          "data": {
            "text/plain": [
              "gravity         21448\n",
              "handpump        13184\n",
              "other            5193\n",
              "submersible      4894\n",
              "motorpump        2355\n",
              "rope pump         353\n",
              "wind-powered       93\n",
              "Name: extraction_type_class, dtype: int64"
            ]
          },
          "metadata": {
            "tags": []
          },
          "execution_count": 26
        }
      ]
    },
    {
      "cell_type": "code",
      "metadata": {
        "id": "pVxoC4NngLVt",
        "outputId": "fc92d789-44ac-4e5d-8043-37aca754c028",
        "colab": {
          "base_uri": "https://localhost:8080/",
          "height": 552
        }
      },
      "source": [
        "import seaborn as sns\n",
        "import matplotlib.pyplot as plt\n",
        "\n",
        "plt.figure(figsize=(16,9))\n",
        "sns.barplot(\n",
        "    x=train[feature], \n",
        "    y=train['status_group']=='functional', \n",
        "    color='grey'\n",
        ");"
      ],
      "execution_count": null,
      "outputs": [
        {
          "output_type": "display_data",
          "data": {
            "image/png": "[encoded data removed]",
            "text/plain": [
              "<Figure size 1152x648 with 1 Axes>"
            ]
          },
          "metadata": {
            "tags": [],
            "needs_background": "light"
          }
        }
      ]
    },
    {
      "cell_type": "code",
      "metadata": {
        "id": "w99mek14gLVv",
        "outputId": "d659700c-d609-4b32-b78d-bc1c44e25379",
        "colab": {
          "base_uri": "https://localhost:8080/",
          "height": 374
        }
      },
      "source": [
        "X_train[feature].head(20)"
      ],
      "execution_count": null,
      "outputs": [
        {
          "output_type": "execute_result",
          "data": {
            "text/plain": [
              "43360        gravity\n",
              "7263         gravity\n",
              "2486        handpump\n",
              "313            other\n",
              "52726      motorpump\n",
              "8558         gravity\n",
              "2559         gravity\n",
              "54735      motorpump\n",
              "25763       handpump\n",
              "44540    submersible\n",
              "28603          other\n",
              "4372     submersible\n",
              "30666        gravity\n",
              "6431     submersible\n",
              "57420          other\n",
              "1373         gravity\n",
              "2026         gravity\n",
              "58977       handpump\n",
              "41101        gravity\n",
              "10019        gravity\n",
              "Name: extraction_type_class, dtype: object"
            ]
          },
          "metadata": {
            "tags": []
          },
          "execution_count": 30
        }
      ]
    },
    {
      "cell_type": "markdown",
      "metadata": {
        "id": "ezzK2IdbgLVx"
      },
      "source": [
        "### [One Hot Encoding](https://contrib.scikit-learn.org/category_encoders/onehot.html)\n",
        "\n",
        "> Onehot (or dummy) coding for categorical features, produces one feature per category, each binary.\n",
        "\n",
        "Warning: May run slow, or run out of memory, with high cardinality categoricals!"
      ]
    },
    {
      "cell_type": "code",
      "metadata": {
        "id": "HDQZtV6GgLVy",
        "outputId": "eccb3288-8a1b-4786-ee98-2d4fa1b04d73",
        "colab": {
          "base_uri": "https://localhost:8080/",
          "height": 703
        }
      },
      "source": [
        "encoder = ce.OneHotEncoder(use_cat_names=True)\n",
        "encoded = encoder.fit_transform(X_train[[feature]])\n",
        "print(f'{len(encoded.columns)} columns')\n",
        "encoded.head(20)"
      ],
      "execution_count": null,
      "outputs": [
        {
          "output_type": "stream",
          "text": [
            "7 columns\n"
          ],
          "name": "stdout"
        },
        {
          "output_type": "execute_result",
          "data": {
            "text/html": [
              "<div>\n",
              "<style scoped>\n",
              "    .dataframe tbody tr th:only-of-type {\n",
              "        vertical-align: middle;\n",
              "    }\n",
              "\n",
              "    .dataframe tbody tr th {\n",
              "        vertical-align: top;\n",
              "    }\n",
              "\n",
              "    .dataframe thead th {\n",
              "        text-align: right;\n",
              "    }\n",
              "</style>\n",
              "<table border=\"1\" class=\"dataframe\">\n",
              "  <thead>\n",
              "    <tr style=\"text-align: right;\">\n",
              "      <th></th>\n",
              "      <th>extraction_type_class_gravity</th>\n",
              "      <th>extraction_type_class_handpump</th>\n",
              "      <th>extraction_type_class_other</th>\n",
              "      <th>extraction_type_class_motorpump</th>\n",
              "      <th>extraction_type_class_submersible</th>\n",
              "      <th>extraction_type_class_rope pump</th>\n",
              "      <th>extraction_type_class_wind-powered</th>\n",
              "    </tr>\n",
              "  </thead>\n",
              "  <tbody>\n",
              "    <tr>\n",
              "      <th>43360</th>\n",
              "      <td>1</td>\n",
              "      <td>0</td>\n",
              "      <td>0</td>\n",
              "      <td>0</td>\n",
              "      <td>0</td>\n",
              "      <td>0</td>\n",
              "      <td>0</td>\n",
              "    </tr>\n",
              "    <tr>\n",
              "      <th>7263</th>\n",
              "      <td>1</td>\n",
              "      <td>0</td>\n",
              "      <td>0</td>\n",
              "      <td>0</td>\n",
              "      <td>0</td>\n",
              "      <td>0</td>\n",
              "      <td>0</td>\n",
              "    </tr>\n",
              "    <tr>\n",
              "      <th>2486</th>\n",
              "      <td>0</td>\n",
              "      <td>1</td>\n",
              "      <td>0</td>\n",
              "      <td>0</td>\n",
              "      <td>0</td>\n",
              "      <td>0</td>\n",
              "      <td>0</td>\n",
              "    </tr>\n",
              "    <tr>\n",
              "      <th>313</th>\n",
              "      <td>0</td>\n",
              "      <td>0</td>\n",
              "      <td>1</td>\n",
              "      <td>0</td>\n",
              "      <td>0</td>\n",
              "      <td>0</td>\n",
              "      <td>0</td>\n",
              "    </tr>\n",
              "    <tr>\n",
              "      <th>52726</th>\n",
              "      <td>0</td>\n",
              "      <td>0</td>\n",
              "      <td>0</td>\n",
              "      <td>1</td>\n",
              "      <td>0</td>\n",
              "      <td>0</td>\n",
              "      <td>0</td>\n",
              "    </tr>\n",
              "    <tr>\n",
              "      <th>8558</th>\n",
              "      <td>1</td>\n",
              "      <td>0</td>\n",
              "      <td>0</td>\n",
              "      <td>0</td>\n",
              "      <td>0</td>\n",
              "      <td>0</td>\n",
              "      <td>0</td>\n",
              "    </tr>\n",
              "    <tr>\n",
              "      <th>2559</th>\n",
              "      <td>1</td>\n",
              "      <td>0</td>\n",
              "      <td>0</td>\n",
              "      <td>0</td>\n",
              "      <td>0</td>\n",
              "      <td>0</td>\n",
              "      <td>0</td>\n",
              "    </tr>\n",
              "    <tr>\n",
              "      <th>54735</th>\n",
              "      <td>0</td>\n",
              "      <td>0</td>\n",
              "      <td>0</td>\n",
              "      <td>1</td>\n",
              "      <td>0</td>\n",
              "      <td>0</td>\n",
              "      <td>0</td>\n",
              "    </tr>\n",
              "    <tr>\n",
              "      <th>25763</th>\n",
              "      <td>0</td>\n",
              "      <td>1</td>\n",
              "      <td>0</td>\n",
              "      <td>0</td>\n",
              "      <td>0</td>\n",
              "      <td>0</td>\n",
              "      <td>0</td>\n",
              "    </tr>\n",
              "    <tr>\n",
              "      <th>44540</th>\n",
              "      <td>0</td>\n",
              "      <td>0</td>\n",
              "      <td>0</td>\n",
              "      <td>0</td>\n",
              "      <td>1</td>\n",
              "      <td>0</td>\n",
              "      <td>0</td>\n",
              "    </tr>\n",
              "    <tr>\n",
              "      <th>28603</th>\n",
              "      <td>0</td>\n",
              "      <td>0</td>\n",
              "      <td>1</td>\n",
              "      <td>0</td>\n",
              "      <td>0</td>\n",
              "      <td>0</td>\n",
              "      <td>0</td>\n",
              "    </tr>\n",
              "    <tr>\n",
              "      <th>4372</th>\n",
              "      <td>0</td>\n",
              "      <td>0</td>\n",
              "      <td>0</td>\n",
              "      <td>0</td>\n",
              "      <td>1</td>\n",
              "      <td>0</td>\n",
              "      <td>0</td>\n",
              "    </tr>\n",
              "    <tr>\n",
              "      <th>30666</th>\n",
              "      <td>1</td>\n",
              "      <td>0</td>\n",
              "      <td>0</td>\n",
              "      <td>0</td>\n",
              "      <td>0</td>\n",
              "      <td>0</td>\n",
              "      <td>0</td>\n",
              "    </tr>\n",
              "    <tr>\n",
              "      <th>6431</th>\n",
              "      <td>0</td>\n",
              "      <td>0</td>\n",
              "      <td>0</td>\n",
              "      <td>0</td>\n",
              "      <td>1</td>\n",
              "      <td>0</td>\n",
              "      <td>0</td>\n",
              "    </tr>\n",
              "    <tr>\n",
              "      <th>57420</th>\n",
              "      <td>0</td>\n",
              "      <td>0</td>\n",
              "      <td>1</td>\n",
              "      <td>0</td>\n",
              "      <td>0</td>\n",
              "      <td>0</td>\n",
              "      <td>0</td>\n",
              "    </tr>\n",
              "    <tr>\n",
              "      <th>1373</th>\n",
              "      <td>1</td>\n",
              "      <td>0</td>\n",
              "      <td>0</td>\n",
              "      <td>0</td>\n",
              "      <td>0</td>\n",
              "      <td>0</td>\n",
              "      <td>0</td>\n",
              "    </tr>\n",
              "    <tr>\n",
              "      <th>2026</th>\n",
              "      <td>1</td>\n",
              "      <td>0</td>\n",
              "      <td>0</td>\n",
              "      <td>0</td>\n",
              "      <td>0</td>\n",
              "      <td>0</td>\n",
              "      <td>0</td>\n",
              "    </tr>\n",
              "    <tr>\n",
              "      <th>58977</th>\n",
              "      <td>0</td>\n",
              "      <td>1</td>\n",
              "      <td>0</td>\n",
              "      <td>0</td>\n",
              "      <td>0</td>\n",
              "      <td>0</td>\n",
              "      <td>0</td>\n",
              "    </tr>\n",
              "    <tr>\n",
              "      <th>41101</th>\n",
              "      <td>1</td>\n",
              "      <td>0</td>\n",
              "      <td>0</td>\n",
              "      <td>0</td>\n",
              "      <td>0</td>\n",
              "      <td>0</td>\n",
              "      <td>0</td>\n",
              "    </tr>\n",
              "    <tr>\n",
              "      <th>10019</th>\n",
              "      <td>1</td>\n",
              "      <td>0</td>\n",
              "      <td>0</td>\n",
              "      <td>0</td>\n",
              "      <td>0</td>\n",
              "      <td>0</td>\n",
              "      <td>0</td>\n",
              "    </tr>\n",
              "  </tbody>\n",
              "</table>\n",
              "</div>"
            ],
            "text/plain": [
              "       extraction_type_class_gravity  ...  extraction_type_class_wind-powered\n",
              "43360                              1  ...                                   0\n",
              "7263                               1  ...                                   0\n",
              "2486                               0  ...                                   0\n",
              "313                                0  ...                                   0\n",
              "52726                              0  ...                                   0\n",
              "8558                               1  ...                                   0\n",
              "2559                               1  ...                                   0\n",
              "54735                              0  ...                                   0\n",
              "25763                              0  ...                                   0\n",
              "44540                              0  ...                                   0\n",
              "28603                              0  ...                                   0\n",
              "4372                               0  ...                                   0\n",
              "30666                              1  ...                                   0\n",
              "6431                               0  ...                                   0\n",
              "57420                              0  ...                                   0\n",
              "1373                               1  ...                                   0\n",
              "2026                               1  ...                                   0\n",
              "58977                              0  ...                                   0\n",
              "41101                              1  ...                                   0\n",
              "10019                              1  ...                                   0\n",
              "\n",
              "[20 rows x 7 columns]"
            ]
          },
          "metadata": {
            "tags": []
          },
          "execution_count": 31
        }
      ]
    },
    {
      "cell_type": "markdown",
      "metadata": {
        "id": "1Ql9Qmw3sNJ7"
      },
      "source": [
        "#### One-Hot Encoding, Logistic Regression, Validation Accuracy"
      ]
    },
    {
      "cell_type": "code",
      "metadata": {
        "id": "mT4A-oDGpOss",
        "outputId": "6e4718f5-1052-4e6c-9fab-3bcb4c089cc6",
        "colab": {
          "base_uri": "https://localhost:8080/",
          "height": 34
        }
      },
      "source": [
        "from sklearn.linear_model import LogisticRegressionCV\n",
        "from sklearn.preprocessing import StandardScaler\n",
        "\n",
        "lr = make_pipeline(\n",
        "    ce.OneHotEncoder(use_cat_names=True), \n",
        "    SimpleImputer(), \n",
        "    StandardScaler(), \n",
        "    LogisticRegressionCV(multi_class='auto', solver='lbfgs', cv=5, n_jobs=-1)\n",
        ")\n",
        "\n",
        "lr.fit(X_train[[feature]], y_train)\n",
        "score = lr.score(X_val[[feature]], y_val)\n",
        "print('Logistic Regression, Validation Accuracy', score)"
      ],
      "execution_count": null,
      "outputs": [
        {
          "output_type": "stream",
          "text": [
            "Logistic Regression, Validation Accuracy 0.6202861952861953\n"
          ],
          "name": "stdout"
        }
      ]
    },
    {
      "cell_type": "markdown",
      "metadata": {
        "id": "EbH6wivpsRuV"
      },
      "source": [
        "#### One-Hot Encoding, Decision Tree, Validation Accuracy"
      ]
    },
    {
      "cell_type": "code",
      "metadata": {
        "id": "b6KUluFOqIdK",
        "outputId": "eece5e5b-c61f-47c5-872f-431d7196e1ff",
        "colab": {
          "base_uri": "https://localhost:8080/",
          "height": 34
        }
      },
      "source": [
        "from sklearn.tree import DecisionTreeClassifier\n",
        "\n",
        "dt = make_pipeline(\n",
        "    ce.OneHotEncoder(use_cat_names=True), \n",
        "    SimpleImputer(), \n",
        "    DecisionTreeClassifier(random_state=42)\n",
        ")\n",
        "\n",
        "dt.fit(X_train[[feature]], y_train)\n",
        "score = dt.score(X_val[[feature]], y_val)\n",
        "print('Decision Tree, Validation Accuracy', score)"
      ],
      "execution_count": null,
      "outputs": [
        {
          "output_type": "stream",
          "text": [
            "Decision Tree, Validation Accuracy 0.6202861952861953\n"
          ],
          "name": "stdout"
        }
      ]
    },
    {
      "cell_type": "markdown",
      "metadata": {
        "id": "8yg11_gTsUu6"
      },
      "source": [
        "#### One-Hot Encoding, Logistic Regression, Model Interpretation"
      ]
    },
    {
      "cell_type": "code",
      "metadata": {
        "id": "IxHwXGRornNI",
        "outputId": "d74ae18d-6802-401a-b73d-5c8358b6aa1a",
        "colab": {
          "base_uri": "https://localhost:8080/",
          "height": 265
        }
      },
      "source": [
        "model = lr.named_steps['logisticregressioncv']\n",
        "encoder = lr.named_steps['onehotencoder']\n",
        "encoded_columns = encoder.transform(X_val[[feature]]).columns\n",
        "coefficients = pd.Series(model.coef_[0], encoded_columns)\n",
        "coefficients.sort_values().plot.barh(color='grey');"
      ],
      "execution_count": null,
      "outputs": [
        {
          "output_type": "display_data",
          "data": {
            "image/png": "[encoded data removed]",
            "text/plain": [
              "<Figure size 432x288 with 1 Axes>"
            ]
          },
          "metadata": {
            "tags": [],
            "needs_background": "light"
          }
        }
      ]
    },
    {
      "cell_type": "markdown",
      "metadata": {
        "id": "0REZ8HdpsccR"
      },
      "source": [
        "#### One-Hot Encoding, Decision Tree, Model Interpretation"
      ]
    },
    {
      "cell_type": "code",
      "metadata": {
        "id": "gV-grmYKpDp9",
        "outputId": "2d5b3e77-198d-4440-a0f1-6bdbead56bb8",
        "colab": {
          "base_uri": "https://localhost:8080/",
          "height": 934
        }
      },
      "source": [
        "# Plot tree\n",
        "# https://scikit-learn.org/stable/modules/generated/sklearn.tree.export_graphviz.html\n",
        "import graphviz\n",
        "from sklearn.tree import export_graphviz\n",
        "\n",
        "model = dt.named_steps['decisiontreeclassifier']\n",
        "encoder = dt.named_steps['onehotencoder']\n",
        "encoded_columns = encoder.transform(X_val[[feature]]).columns\n",
        "\n",
        "dot_data = export_graphviz(model, \n",
        "                           out_file=None, \n",
        "                           max_depth=7, \n",
        "                           feature_names=encoded_columns,\n",
        "                           class_names=model.classes_, \n",
        "                           impurity=False, \n",
        "                           filled=True, \n",
        "                           proportion=True, \n",
        "                           rounded=True)   \n",
        "display(graphviz.Source(dot_data))"
      ],
      "execution_count": null,
      "outputs": [
        {
          "output_type": "display_data",
          "data": {
            "text/plain": [
              "<graphviz.files.Source at 0x7f529397ba90>"
            ],
            "image/svg+xml": "<?xml version=\"1.0\" encoding=\"UTF-8\" standalone=\"no\"?>\n<!DOCTYPE svg PUBLIC \"-//W3C//DTD SVG 1.1//EN\"\n \"http://www.w3.org/Graphics/SVG/1.1/DTD/svg11.dtd\">\n<!-- Generated by graphviz version 2.40.1 (20161225.0304)\n -->\n<!-- Title: Tree Pages: 1 -->\n<svg width=\"1067pt\" height=\"685pt\"\n viewBox=\"0.00 0.00 1067.00 685.00\" xmlns=\"http://www.w3.org/2000/svg\" xmlns:xlink=\"http://www.w3.org/1999/xlink\">\n<g id=\"graph0\" class=\"graph\" transform=\"scale(1 1) rotate(0) translate(4 681)\">\n<title>Tree</title>\n<polygon fill=\"#ffffff\" stroke=\"transparent\" points=\"-4,4 -4,-681 1063,-681 1063,4 -4,4\"/>\n<!-- 0 -->\n<g id=\"node1\" class=\"node\">\n<title>0</title>\n<path fill=\"#f8decc\" stroke=\"#000000\" d=\"M944.5,-677C944.5,-677 725.5,-677 725.5,-677 719.5,-677 713.5,-671 713.5,-665 713.5,-665 713.5,-621 713.5,-621 713.5,-615 719.5,-609 725.5,-609 725.5,-609 944.5,-609 944.5,-609 950.5,-609 956.5,-615 956.5,-621 956.5,-621 956.5,-665 956.5,-665 956.5,-671 950.5,-677 944.5,-677\"/>\n<text text-anchor=\"middle\" x=\"835\" y=\"-661.8\" font-family=\"Helvetica,sans-Serif\" font-size=\"14.00\" fill=\"#000000\">extraction_type_class_other &lt;= 0.5</text>\n<text text-anchor=\"middle\" x=\"835\" y=\"-646.8\" font-family=\"Helvetica,sans-Serif\" font-size=\"14.00\" fill=\"#000000\">samples = 100.0%</text>\n<text text-anchor=\"middle\" x=\"835\" y=\"-631.8\" font-family=\"Helvetica,sans-Serif\" font-size=\"14.00\" fill=\"#000000\">value = [0.543, 0.073, 0.384]</text>\n<text text-anchor=\"middle\" x=\"835\" y=\"-616.8\" font-family=\"Helvetica,sans-Serif\" font-size=\"14.00\" fill=\"#000000\">class = functional</text>\n</g>\n<!-- 1 -->\n<g id=\"node2\" class=\"node\">\n<title>1</title>\n<path fill=\"#f5ceb2\" stroke=\"#000000\" d=\"M837,-573C837,-573 577,-573 577,-573 571,-573 565,-567 565,-561 565,-561 565,-517 565,-517 565,-511 571,-505 577,-505 577,-505 837,-505 837,-505 843,-505 849,-511 849,-517 849,-517 849,-561 849,-561 849,-567 843,-573 837,-573\"/>\n<text text-anchor=\"middle\" x=\"707\" y=\"-557.8\" font-family=\"Helvetica,sans-Serif\" font-size=\"14.00\" fill=\"#000000\">extraction_type_class_motorpump &lt;= 0.5</text>\n<text text-anchor=\"middle\" x=\"707\" y=\"-542.8\" font-family=\"Helvetica,sans-Serif\" font-size=\"14.00\" fill=\"#000000\">samples = 89.1%</text>\n<text text-anchor=\"middle\" x=\"707\" y=\"-527.8\" font-family=\"Helvetica,sans-Serif\" font-size=\"14.00\" fill=\"#000000\">value = [0.59, 0.078, 0.332]</text>\n<text text-anchor=\"middle\" x=\"707\" y=\"-512.8\" font-family=\"Helvetica,sans-Serif\" font-size=\"14.00\" fill=\"#000000\">class = functional</text>\n</g>\n<!-- 0&#45;&gt;1 -->\n<g id=\"edge1\" class=\"edge\">\n<title>0&#45;&gt;1</title>\n<path fill=\"none\" stroke=\"#000000\" d=\"M793.088,-608.9465C781.485,-599.519 768.7779,-589.1946 756.7741,-579.4415\"/>\n<polygon fill=\"#000000\" stroke=\"#000000\" points=\"758.9744,-576.7196 749.0061,-573.13 754.5602,-582.1524 758.9744,-576.7196\"/>\n<text text-anchor=\"middle\" x=\"751.5786\" y=\"-594.2973\" font-family=\"Helvetica,sans-Serif\" font-size=\"14.00\" fill=\"#000000\">True</text>\n</g>\n<!-- 12 -->\n<g id=\"node13\" class=\"node\">\n<title>12</title>\n<path fill=\"#9d66eb\" stroke=\"#000000\" d=\"M1047,-565.5C1047,-565.5 879,-565.5 879,-565.5 873,-565.5 867,-559.5 867,-553.5 867,-553.5 867,-524.5 867,-524.5 867,-518.5 873,-512.5 879,-512.5 879,-512.5 1047,-512.5 1047,-512.5 1053,-512.5 1059,-518.5 1059,-524.5 1059,-524.5 1059,-553.5 1059,-553.5 1059,-559.5 1053,-565.5 1047,-565.5\"/>\n<text text-anchor=\"middle\" x=\"963\" y=\"-550.3\" font-family=\"Helvetica,sans-Serif\" font-size=\"14.00\" fill=\"#000000\">samples = 10.9%</text>\n<text text-anchor=\"middle\" x=\"963\" y=\"-535.3\" font-family=\"Helvetica,sans-Serif\" font-size=\"14.00\" fill=\"#000000\">value = [0.159, 0.031, 0.81]</text>\n<text text-anchor=\"middle\" x=\"963\" y=\"-520.3\" font-family=\"Helvetica,sans-Serif\" font-size=\"14.00\" fill=\"#000000\">class = non functional</text>\n</g>\n<!-- 0&#45;&gt;12 -->\n<g id=\"edge12\" class=\"edge\">\n<title>0&#45;&gt;12</title>\n<path fill=\"none\" stroke=\"#000000\" d=\"M876.912,-608.9465C891.5533,-597.0504 907.9526,-583.726 922.4785,-571.9237\"/>\n<polygon fill=\"#000000\" stroke=\"#000000\" points=\"924.7786,-574.5645 930.3327,-565.5422 920.3645,-569.1317 924.7786,-574.5645\"/>\n<text text-anchor=\"middle\" x=\"927.7602\" y=\"-586.7095\" font-family=\"Helvetica,sans-Serif\" font-size=\"14.00\" fill=\"#000000\">False</text>\n</g>\n<!-- 2 -->\n<g id=\"node3\" class=\"node\">\n<title>2</title>\n<path fill=\"#f4caac\" stroke=\"#000000\" d=\"M708.5,-469C708.5,-469 443.5,-469 443.5,-469 437.5,-469 431.5,-463 431.5,-457 431.5,-457 431.5,-413 431.5,-413 431.5,-407 437.5,-401 443.5,-401 443.5,-401 708.5,-401 708.5,-401 714.5,-401 720.5,-407 720.5,-413 720.5,-413 720.5,-457 720.5,-457 720.5,-463 714.5,-469 708.5,-469\"/>\n<text text-anchor=\"middle\" x=\"576\" y=\"-453.8\" font-family=\"Helvetica,sans-Serif\" font-size=\"14.00\" fill=\"#000000\">extraction_type_class_submersible &lt;= 0.5</text>\n<text text-anchor=\"middle\" x=\"576\" y=\"-438.8\" font-family=\"Helvetica,sans-Serif\" font-size=\"14.00\" fill=\"#000000\">samples = 84.1%</text>\n<text text-anchor=\"middle\" x=\"576\" y=\"-423.8\" font-family=\"Helvetica,sans-Serif\" font-size=\"14.00\" fill=\"#000000\">value = [0.603, 0.08, 0.318]</text>\n<text text-anchor=\"middle\" x=\"576\" y=\"-408.8\" font-family=\"Helvetica,sans-Serif\" font-size=\"14.00\" fill=\"#000000\">class = functional</text>\n</g>\n<!-- 1&#45;&gt;2 -->\n<g id=\"edge2\" class=\"edge\">\n<title>1&#45;&gt;2</title>\n<path fill=\"none\" stroke=\"#000000\" d=\"M664.1057,-504.9465C652.2307,-495.519 639.2259,-485.1946 626.9407,-475.4415\"/>\n<polygon fill=\"#000000\" stroke=\"#000000\" points=\"628.9989,-472.6066 618.9907,-469.13 624.6464,-478.089 628.9989,-472.6066\"/>\n</g>\n<!-- 11 -->\n<g id=\"node12\" class=\"node\">\n<title>11</title>\n<path fill=\"#d8c1f7\" stroke=\"#000000\" d=\"M927,-461.5C927,-461.5 751,-461.5 751,-461.5 745,-461.5 739,-455.5 739,-449.5 739,-449.5 739,-420.5 739,-420.5 739,-414.5 745,-408.5 751,-408.5 751,-408.5 927,-408.5 927,-408.5 933,-408.5 939,-414.5 939,-420.5 939,-420.5 939,-449.5 939,-449.5 939,-455.5 933,-461.5 927,-461.5\"/>\n<text text-anchor=\"middle\" x=\"839\" y=\"-446.3\" font-family=\"Helvetica,sans-Serif\" font-size=\"14.00\" fill=\"#000000\">samples = 5.0%</text>\n<text text-anchor=\"middle\" x=\"839\" y=\"-431.3\" font-family=\"Helvetica,sans-Serif\" font-size=\"14.00\" fill=\"#000000\">value = [0.381, 0.045, 0.574]</text>\n<text text-anchor=\"middle\" x=\"839\" y=\"-416.3\" font-family=\"Helvetica,sans-Serif\" font-size=\"14.00\" fill=\"#000000\">class = non functional</text>\n</g>\n<!-- 1&#45;&gt;11 -->\n<g id=\"edge11\" class=\"edge\">\n<title>1&#45;&gt;11</title>\n<path fill=\"none\" stroke=\"#000000\" d=\"M750.2217,-504.9465C765.3206,-493.0504 782.2324,-479.726 797.2122,-467.9237\"/>\n<polygon fill=\"#000000\" stroke=\"#000000\" points=\"799.623,-470.4802 805.3119,-461.5422 795.2909,-464.9817 799.623,-470.4802\"/>\n</g>\n<!-- 3 -->\n<g id=\"node4\" class=\"node\">\n<title>3</title>\n<path fill=\"#f4c7a8\" stroke=\"#000000\" d=\"M568.5,-365C568.5,-365 339.5,-365 339.5,-365 333.5,-365 327.5,-359 327.5,-353 327.5,-353 327.5,-309 327.5,-309 327.5,-303 333.5,-297 339.5,-297 339.5,-297 568.5,-297 568.5,-297 574.5,-297 580.5,-303 580.5,-309 580.5,-309 580.5,-353 580.5,-353 580.5,-359 574.5,-365 568.5,-365\"/>\n<text text-anchor=\"middle\" x=\"454\" y=\"-349.8\" font-family=\"Helvetica,sans-Serif\" font-size=\"14.00\" fill=\"#000000\">extraction_type_class_gravity &lt;= 0.5</text>\n<text text-anchor=\"middle\" x=\"454\" y=\"-334.8\" font-family=\"Helvetica,sans-Serif\" font-size=\"14.00\" fill=\"#000000\">samples = 73.8%</text>\n<text text-anchor=\"middle\" x=\"454\" y=\"-319.8\" font-family=\"Helvetica,sans-Serif\" font-size=\"14.00\" fill=\"#000000\">value = [0.611, 0.085, 0.304]</text>\n<text text-anchor=\"middle\" x=\"454\" y=\"-304.8\" font-family=\"Helvetica,sans-Serif\" font-size=\"14.00\" fill=\"#000000\">class = functional</text>\n</g>\n<!-- 2&#45;&gt;3 -->\n<g id=\"edge3\" class=\"edge\">\n<title>2&#45;&gt;3</title>\n<path fill=\"none\" stroke=\"#000000\" d=\"M536.0526,-400.9465C525.0988,-391.6088 513.1127,-381.3911 501.768,-371.7203\"/>\n<polygon fill=\"#000000\" stroke=\"#000000\" points=\"503.9179,-368.9538 494.0371,-365.13 499.3767,-374.2809 503.9179,-368.9538\"/>\n</g>\n<!-- 10 -->\n<g id=\"node11\" class=\"node\">\n<title>10</title>\n<path fill=\"#f9e4d5\" stroke=\"#000000\" d=\"M787,-357.5C787,-357.5 611,-357.5 611,-357.5 605,-357.5 599,-351.5 599,-345.5 599,-345.5 599,-316.5 599,-316.5 599,-310.5 605,-304.5 611,-304.5 611,-304.5 787,-304.5 787,-304.5 793,-304.5 799,-310.5 799,-316.5 799,-316.5 799,-345.5 799,-345.5 799,-351.5 793,-357.5 787,-357.5\"/>\n<text text-anchor=\"middle\" x=\"699\" y=\"-342.3\" font-family=\"Helvetica,sans-Serif\" font-size=\"14.00\" fill=\"#000000\">samples = 10.3%</text>\n<text text-anchor=\"middle\" x=\"699\" y=\"-327.3\" font-family=\"Helvetica,sans-Serif\" font-size=\"14.00\" fill=\"#000000\">value = [0.541, 0.042, 0.416]</text>\n<text text-anchor=\"middle\" x=\"699\" y=\"-312.3\" font-family=\"Helvetica,sans-Serif\" font-size=\"14.00\" fill=\"#000000\">class = functional</text>\n</g>\n<!-- 2&#45;&gt;10 -->\n<g id=\"edge10\" class=\"edge\">\n<title>2&#45;&gt;10</title>\n<path fill=\"none\" stroke=\"#000000\" d=\"M616.2748,-400.9465C630.2139,-389.1606 645.8112,-375.9726 659.6732,-364.2519\"/>\n<polygon fill=\"#000000\" stroke=\"#000000\" points=\"662.2324,-366.6715 667.6088,-357.5422 657.7127,-361.3262 662.2324,-366.6715\"/>\n</g>\n<!-- 4 -->\n<g id=\"node5\" class=\"node\">\n<title>4</title>\n<path fill=\"#f3c5a4\" stroke=\"#000000\" d=\"M458.5,-261C458.5,-261 181.5,-261 181.5,-261 175.5,-261 169.5,-255 169.5,-249 169.5,-249 169.5,-205 169.5,-205 169.5,-199 175.5,-193 181.5,-193 181.5,-193 458.5,-193 458.5,-193 464.5,-193 470.5,-199 470.5,-205 470.5,-205 470.5,-249 470.5,-249 470.5,-255 464.5,-261 458.5,-261\"/>\n<text text-anchor=\"middle\" x=\"320\" y=\"-245.8\" font-family=\"Helvetica,sans-Serif\" font-size=\"14.00\" fill=\"#000000\">extraction_type_class_wind&#45;powered &lt;= 0.5</text>\n<text text-anchor=\"middle\" x=\"320\" y=\"-230.8\" font-family=\"Helvetica,sans-Serif\" font-size=\"14.00\" fill=\"#000000\">samples = 28.7%</text>\n<text text-anchor=\"middle\" x=\"320\" y=\"-215.8\" font-family=\"Helvetica,sans-Serif\" font-size=\"14.00\" fill=\"#000000\">value = [0.629, 0.059, 0.311]</text>\n<text text-anchor=\"middle\" x=\"320\" y=\"-200.8\" font-family=\"Helvetica,sans-Serif\" font-size=\"14.00\" fill=\"#000000\">class = functional</text>\n</g>\n<!-- 3&#45;&gt;4 -->\n<g id=\"edge4\" class=\"edge\">\n<title>3&#45;&gt;4</title>\n<path fill=\"none\" stroke=\"#000000\" d=\"M410.1234,-296.9465C397.9765,-287.519 384.6738,-277.1946 372.1073,-267.4415\"/>\n<polygon fill=\"#000000\" stroke=\"#000000\" points=\"374.021,-264.4963 363.9752,-261.13 369.7291,-270.0262 374.021,-264.4963\"/>\n</g>\n<!-- 9 -->\n<g id=\"node10\" class=\"node\">\n<title>9</title>\n<path fill=\"#f4c9aa\" stroke=\"#000000\" d=\"M677,-253.5C677,-253.5 501,-253.5 501,-253.5 495,-253.5 489,-247.5 489,-241.5 489,-241.5 489,-212.5 489,-212.5 489,-206.5 495,-200.5 501,-200.5 501,-200.5 677,-200.5 677,-200.5 683,-200.5 689,-206.5 689,-212.5 689,-212.5 689,-241.5 689,-241.5 689,-247.5 683,-253.5 677,-253.5\"/>\n<text text-anchor=\"middle\" x=\"589\" y=\"-238.3\" font-family=\"Helvetica,sans-Serif\" font-size=\"14.00\" fill=\"#000000\">samples = 45.1%</text>\n<text text-anchor=\"middle\" x=\"589\" y=\"-223.3\" font-family=\"Helvetica,sans-Serif\" font-size=\"14.00\" fill=\"#000000\">value = [0.599, 0.101, 0.299]</text>\n<text text-anchor=\"middle\" x=\"589\" y=\"-208.3\" font-family=\"Helvetica,sans-Serif\" font-size=\"14.00\" fill=\"#000000\">class = functional</text>\n</g>\n<!-- 3&#45;&gt;9 -->\n<g id=\"edge9\" class=\"edge\">\n<title>3&#45;&gt;9</title>\n<path fill=\"none\" stroke=\"#000000\" d=\"M498.204,-296.9465C513.6461,-285.0504 530.9422,-271.726 546.2625,-259.9237\"/>\n<polygon fill=\"#000000\" stroke=\"#000000\" points=\"548.7603,-262.4176 554.5462,-253.5422 544.4883,-256.8723 548.7603,-262.4176\"/>\n</g>\n<!-- 5 -->\n<g id=\"node6\" class=\"node\">\n<title>5</title>\n<path fill=\"#f3c4a3\" stroke=\"#000000\" d=\"M319,-157C319,-157 63,-157 63,-157 57,-157 51,-151 51,-145 51,-145 51,-101 51,-101 51,-95 57,-89 63,-89 63,-89 319,-89 319,-89 325,-89 331,-95 331,-101 331,-101 331,-145 331,-145 331,-151 325,-157 319,-157\"/>\n<text text-anchor=\"middle\" x=\"191\" y=\"-141.8\" font-family=\"Helvetica,sans-Serif\" font-size=\"14.00\" fill=\"#000000\">extraction_type_class_rope pump &lt;= 0.5</text>\n<text text-anchor=\"middle\" x=\"191\" y=\"-126.8\" font-family=\"Helvetica,sans-Serif\" font-size=\"14.00\" fill=\"#000000\">samples = 28.5%</text>\n<text text-anchor=\"middle\" x=\"191\" y=\"-111.8\" font-family=\"Helvetica,sans-Serif\" font-size=\"14.00\" fill=\"#000000\">value = [0.631, 0.059, 0.31]</text>\n<text text-anchor=\"middle\" x=\"191\" y=\"-96.8\" font-family=\"Helvetica,sans-Serif\" font-size=\"14.00\" fill=\"#000000\">class = functional</text>\n</g>\n<!-- 4&#45;&gt;5 -->\n<g id=\"edge5\" class=\"edge\">\n<title>4&#45;&gt;5</title>\n<path fill=\"none\" stroke=\"#000000\" d=\"M277.7606,-192.9465C266.0669,-183.519 253.2606,-173.1946 241.163,-163.4415\"/>\n<polygon fill=\"#000000\" stroke=\"#000000\" points=\"243.3162,-160.6816 233.3343,-157.13 238.9227,-166.1312 243.3162,-160.6816\"/>\n</g>\n<!-- 8 -->\n<g id=\"node9\" class=\"node\">\n<title>8</title>\n<path fill=\"#f8f3fd\" stroke=\"#000000\" d=\"M537,-149.5C537,-149.5 361,-149.5 361,-149.5 355,-149.5 349,-143.5 349,-137.5 349,-137.5 349,-108.5 349,-108.5 349,-102.5 355,-96.5 361,-96.5 361,-96.5 537,-96.5 537,-96.5 543,-96.5 549,-102.5 549,-108.5 549,-108.5 549,-137.5 549,-137.5 549,-143.5 543,-149.5 537,-149.5\"/>\n<text text-anchor=\"middle\" x=\"449\" y=\"-134.3\" font-family=\"Helvetica,sans-Serif\" font-size=\"14.00\" fill=\"#000000\">samples = 0.2%</text>\n<text text-anchor=\"middle\" x=\"449\" y=\"-119.3\" font-family=\"Helvetica,sans-Serif\" font-size=\"14.00\" fill=\"#000000\">value = [0.452, 0.065, 0.484]</text>\n<text text-anchor=\"middle\" x=\"449\" y=\"-104.3\" font-family=\"Helvetica,sans-Serif\" font-size=\"14.00\" fill=\"#000000\">class = non functional</text>\n</g>\n<!-- 4&#45;&gt;8 -->\n<g id=\"edge8\" class=\"edge\">\n<title>4&#45;&gt;8</title>\n<path fill=\"none\" stroke=\"#000000\" d=\"M362.2394,-192.9465C376.9952,-181.0504 393.5225,-167.726 408.162,-155.9237\"/>\n<polygon fill=\"#000000\" stroke=\"#000000\" points=\"410.4891,-158.5433 416.0775,-149.5422 406.0957,-153.0938 410.4891,-158.5433\"/>\n</g>\n<!-- 6 -->\n<g id=\"node7\" class=\"node\">\n<title>6</title>\n<path fill=\"#f3c5a3\" stroke=\"#000000\" d=\"M164,-53C164,-53 12,-53 12,-53 6,-53 0,-47 0,-41 0,-41 0,-12 0,-12 0,-6 6,0 12,0 12,0 164,0 164,0 170,0 176,-6 176,-12 176,-12 176,-41 176,-41 176,-47 170,-53 164,-53\"/>\n<text text-anchor=\"middle\" x=\"88\" y=\"-37.8\" font-family=\"Helvetica,sans-Serif\" font-size=\"14.00\" fill=\"#000000\">samples = 27.7%</text>\n<text text-anchor=\"middle\" x=\"88\" y=\"-22.8\" font-family=\"Helvetica,sans-Serif\" font-size=\"14.00\" fill=\"#000000\">value = [0.63, 0.06, 0.31]</text>\n<text text-anchor=\"middle\" x=\"88\" y=\"-7.8\" font-family=\"Helvetica,sans-Serif\" font-size=\"14.00\" fill=\"#000000\">class = functional</text>\n</g>\n<!-- 5&#45;&gt;6 -->\n<g id=\"edge6\" class=\"edge\">\n<title>5&#45;&gt;6</title>\n<path fill=\"none\" stroke=\"#000000\" d=\"M154.6861,-88.9777C144.7168,-79.6376 133.9138,-69.5163 123.9643,-60.1947\"/>\n<polygon fill=\"#000000\" stroke=\"#000000\" points=\"126.2408,-57.5314 116.5502,-53.2485 121.4548,-62.6397 126.2408,-57.5314\"/>\n</g>\n<!-- 7 -->\n<g id=\"node8\" class=\"node\">\n<title>7</title>\n<path fill=\"#f2bf9b\" stroke=\"#000000\" d=\"M382,-53C382,-53 206,-53 206,-53 200,-53 194,-47 194,-41 194,-41 194,-12 194,-12 194,-6 200,0 206,0 206,0 382,0 382,0 388,0 394,-6 394,-12 394,-12 394,-41 394,-41 394,-47 388,-53 382,-53\"/>\n<text text-anchor=\"middle\" x=\"294\" y=\"-37.8\" font-family=\"Helvetica,sans-Serif\" font-size=\"14.00\" fill=\"#000000\">samples = 0.7%</text>\n<text text-anchor=\"middle\" x=\"294\" y=\"-22.8\" font-family=\"Helvetica,sans-Serif\" font-size=\"14.00\" fill=\"#000000\">value = [0.657, 0.037, 0.306]</text>\n<text text-anchor=\"middle\" x=\"294\" y=\"-7.8\" font-family=\"Helvetica,sans-Serif\" font-size=\"14.00\" fill=\"#000000\">class = functional</text>\n</g>\n<!-- 5&#45;&gt;7 -->\n<g id=\"edge7\" class=\"edge\">\n<title>5&#45;&gt;7</title>\n<path fill=\"none\" stroke=\"#000000\" d=\"M227.3139,-88.9777C237.2832,-79.6376 248.0862,-69.5163 258.0357,-60.1947\"/>\n<polygon fill=\"#000000\" stroke=\"#000000\" points=\"260.5452,-62.6397 265.4498,-53.2485 255.7592,-57.5314 260.5452,-62.6397\"/>\n</g>\n</g>\n</svg>\n"
          },
          "metadata": {
            "tags": []
          }
        }
      ]
    },
    {
      "cell_type": "markdown",
      "metadata": {
        "id": "QUd6gzcZgLVz"
      },
      "source": [
        "### [Ordinal Encoding](https://contrib.scikit-learn.org/category_encoders/ordinal.html)\n",
        "\n",
        "> Ordinal encoding uses a single column of integers to represent the classes. An optional mapping dict can be passed in; in this case, we use the knowledge that there is some true order to the classes themselves. Otherwise, the classes are assumed to have no true order and integers are selected at random."
      ]
    },
    {
      "cell_type": "code",
      "metadata": {
        "id": "CnBz2RbwgLVz",
        "outputId": "b8214ed3-784e-4932-aa18-84a8e1040ca7",
        "colab": {
          "base_uri": "https://localhost:8080/",
          "height": 190
        }
      },
      "source": [
        "encoder = ce.OrdinalEncoder()\n",
        "encoded = encoder.fit_transform(X_train[[feature]])\n",
        "print(f'1 column, {encoded[feature].nunique()} unique values')\n",
        "encoded.head(4)"
      ],
      "execution_count": null,
      "outputs": [
        {
          "output_type": "stream",
          "text": [
            "1 column, 7 unique values\n"
          ],
          "name": "stdout"
        },
        {
          "output_type": "execute_result",
          "data": {
            "text/html": [
              "<div>\n",
              "<style scoped>\n",
              "    .dataframe tbody tr th:only-of-type {\n",
              "        vertical-align: middle;\n",
              "    }\n",
              "\n",
              "    .dataframe tbody tr th {\n",
              "        vertical-align: top;\n",
              "    }\n",
              "\n",
              "    .dataframe thead th {\n",
              "        text-align: right;\n",
              "    }\n",
              "</style>\n",
              "<table border=\"1\" class=\"dataframe\">\n",
              "  <thead>\n",
              "    <tr style=\"text-align: right;\">\n",
              "      <th></th>\n",
              "      <th>extraction_type_class</th>\n",
              "    </tr>\n",
              "  </thead>\n",
              "  <tbody>\n",
              "    <tr>\n",
              "      <th>43360</th>\n",
              "      <td>1</td>\n",
              "    </tr>\n",
              "    <tr>\n",
              "      <th>7263</th>\n",
              "      <td>1</td>\n",
              "    </tr>\n",
              "    <tr>\n",
              "      <th>2486</th>\n",
              "      <td>2</td>\n",
              "    </tr>\n",
              "    <tr>\n",
              "      <th>313</th>\n",
              "      <td>3</td>\n",
              "    </tr>\n",
              "  </tbody>\n",
              "</table>\n",
              "</div>"
            ],
            "text/plain": [
              "       extraction_type_class\n",
              "43360                      1\n",
              "7263                       1\n",
              "2486                       2\n",
              "313                        3"
            ]
          },
          "metadata": {
            "tags": []
          },
          "execution_count": 37
        }
      ]
    },
    {
      "cell_type": "markdown",
      "metadata": {
        "id": "Nd-ZWprasqUM"
      },
      "source": [
        "#### Ordinal Encoding, Logistic Regression, Validation Accuracy"
      ]
    },
    {
      "cell_type": "code",
      "metadata": {
        "id": "GJ1YpwjvrhfL",
        "outputId": "42d6358a-be0f-4810-964c-7c3c797e88a9",
        "colab": {
          "base_uri": "https://localhost:8080/",
          "height": 34
        }
      },
      "source": [
        "lr = make_pipeline(\n",
        "    ce.OrdinalEncoder(), \n",
        "    SimpleImputer(), \n",
        "    StandardScaler(), \n",
        "    LogisticRegressionCV(multi_class='auto', solver='lbfgs', cv=5, n_jobs=-1)\n",
        ")\n",
        "\n",
        "lr.fit(X_train[[feature]], y_train)\n",
        "score = lr.score(X_val[[feature]], y_val)\n",
        "print('Logistic Regression, Validation Accuracy', score)"
      ],
      "execution_count": null,
      "outputs": [
        {
          "output_type": "stream",
          "text": [
            "Logistic Regression, Validation Accuracy 0.5417508417508418\n"
          ],
          "name": "stdout"
        }
      ]
    },
    {
      "cell_type": "markdown",
      "metadata": {
        "id": "9lO_R3SksuHs"
      },
      "source": [
        "#### Ordinal Encoding, Decision Tree, Validation Accuracy"
      ]
    },
    {
      "cell_type": "code",
      "metadata": {
        "id": "aOELD_roriVI",
        "outputId": "d0359218-7fd7-41a5-ea46-64abd2ca8ddf",
        "colab": {
          "base_uri": "https://localhost:8080/",
          "height": 34
        }
      },
      "source": [
        "dt = make_pipeline(\n",
        "    ce.OrdinalEncoder(), \n",
        "    SimpleImputer(), \n",
        "    DecisionTreeClassifier(random_state=42)\n",
        ")\n",
        "\n",
        "dt.fit(X_train[[feature]], y_train)\n",
        "score = dt.score(X_val[[feature]], y_val)\n",
        "print('Decision Tree, Validation Accuracy', score)"
      ],
      "execution_count": null,
      "outputs": [
        {
          "output_type": "stream",
          "text": [
            "Decision Tree, Validation Accuracy 0.6202861952861953\n"
          ],
          "name": "stdout"
        }
      ]
    },
    {
      "cell_type": "markdown",
      "metadata": {
        "id": "7V2zHjiwswTg"
      },
      "source": [
        "#### Ordinal Encoding, Logistic Regression, Model Interpretation"
      ]
    },
    {
      "cell_type": "code",
      "metadata": {
        "id": "S9UPYPois8QR",
        "outputId": "1da5f721-959b-4a9f-e146-66b12095db95",
        "colab": {
          "base_uri": "https://localhost:8080/",
          "height": 265
        }
      },
      "source": [
        "model = lr.named_steps['logisticregressioncv']\n",
        "encoder = lr.named_steps['ordinalencoder']\n",
        "encoded_columns = encoder.transform(X_val[[feature]]).columns\n",
        "coefficients = pd.Series(model.coef_[0], encoded_columns)\n",
        "coefficients.sort_values().plot.barh(color='grey');"
      ],
      "execution_count": null,
      "outputs": [
        {
          "output_type": "display_data",
          "data": {
            "image/png": "[encoded data removed]",
            "text/plain": [
              "<Figure size 432x288 with 1 Axes>"
            ]
          },
          "metadata": {
            "tags": [],
            "needs_background": "light"
          }
        }
      ]
    },
    {
      "cell_type": "markdown",
      "metadata": {
        "id": "MvmmvE8fsymh"
      },
      "source": [
        "#### Ordinal Encoding, Decision Tree, Model Interpretation"
      ]
    },
    {
      "cell_type": "code",
      "metadata": {
        "id": "jCvUu4Oms88b",
        "outputId": "3630a815-26f7-4806-d87b-9a7863ae61e7",
        "colab": {
          "base_uri": "https://localhost:8080/",
          "height": 796
        }
      },
      "source": [
        "model = dt.named_steps['decisiontreeclassifier']\n",
        "encoder = dt.named_steps['ordinalencoder']\n",
        "encoded_columns = encoder.transform(X_val[[feature]]).columns\n",
        "\n",
        "dot_data = export_graphviz(model, \n",
        "                           out_file=None, \n",
        "                           max_depth=5, \n",
        "                           feature_names=encoded_columns,\n",
        "                           class_names=model.classes_, \n",
        "                           impurity=False, \n",
        "                           filled=True, \n",
        "                           proportion=True, \n",
        "                           rounded=True)   \n",
        "display(graphviz.Source(dot_data))"
      ],
      "execution_count": null,
      "outputs": [
        {
          "output_type": "display_data",
          "data": {
            "text/plain": [
              "<graphviz.files.Source at 0x7f5293983978>"
            ],
            "image/svg+xml": "<?xml version=\"1.0\" encoding=\"UTF-8\" standalone=\"no\"?>\n<!DOCTYPE svg PUBLIC \"-//W3C//DTD SVG 1.1//EN\"\n \"http://www.w3.org/Graphics/SVG/1.1/DTD/svg11.dtd\">\n<!-- Generated by graphviz version 2.40.1 (20161225.0304)\n -->\n<!-- Title: Tree Pages: 1 -->\n<svg width=\"1167pt\" height=\"581pt\"\n viewBox=\"0.00 0.00 1167.00 581.00\" xmlns=\"http://www.w3.org/2000/svg\" xmlns:xlink=\"http://www.w3.org/1999/xlink\">\n<g id=\"graph0\" class=\"graph\" transform=\"scale(1 1) rotate(0) translate(4 577)\">\n<title>Tree</title>\n<polygon fill=\"#ffffff\" stroke=\"transparent\" points=\"-4,4 -4,-577 1163,-577 1163,4 -4,4\"/>\n<!-- 0 -->\n<g id=\"node1\" class=\"node\">\n<title>0</title>\n<path fill=\"#f8decc\" stroke=\"#000000\" d=\"M500,-573C500,-573 322,-573 322,-573 316,-573 310,-567 310,-561 310,-561 310,-517 310,-517 310,-511 316,-505 322,-505 322,-505 500,-505 500,-505 506,-505 512,-511 512,-517 512,-517 512,-561 512,-561 512,-567 506,-573 500,-573\"/>\n<text text-anchor=\"middle\" x=\"411\" y=\"-557.8\" font-family=\"Helvetica,sans-Serif\" font-size=\"14.00\" fill=\"#000000\">extraction_type_class &lt;= 2.5</text>\n<text text-anchor=\"middle\" x=\"411\" y=\"-542.8\" font-family=\"Helvetica,sans-Serif\" font-size=\"14.00\" fill=\"#000000\">samples = 100.0%</text>\n<text text-anchor=\"middle\" x=\"411\" y=\"-527.8\" font-family=\"Helvetica,sans-Serif\" font-size=\"14.00\" fill=\"#000000\">value = [0.543, 0.073, 0.384]</text>\n<text text-anchor=\"middle\" x=\"411\" y=\"-512.8\" font-family=\"Helvetica,sans-Serif\" font-size=\"14.00\" fill=\"#000000\">class = functional</text>\n</g>\n<!-- 1 -->\n<g id=\"node2\" class=\"node\">\n<title>1</title>\n<path fill=\"#f4c7a8\" stroke=\"#000000\" d=\"M390,-469C390,-469 212,-469 212,-469 206,-469 200,-463 200,-457 200,-457 200,-413 200,-413 200,-407 206,-401 212,-401 212,-401 390,-401 390,-401 396,-401 402,-407 402,-413 402,-413 402,-457 402,-457 402,-463 396,-469 390,-469\"/>\n<text text-anchor=\"middle\" x=\"301\" y=\"-453.8\" font-family=\"Helvetica,sans-Serif\" font-size=\"14.00\" fill=\"#000000\">extraction_type_class &lt;= 1.5</text>\n<text text-anchor=\"middle\" x=\"301\" y=\"-438.8\" font-family=\"Helvetica,sans-Serif\" font-size=\"14.00\" fill=\"#000000\">samples = 72.9%</text>\n<text text-anchor=\"middle\" x=\"301\" y=\"-423.8\" font-family=\"Helvetica,sans-Serif\" font-size=\"14.00\" fill=\"#000000\">value = [0.611, 0.085, 0.304]</text>\n<text text-anchor=\"middle\" x=\"301\" y=\"-408.8\" font-family=\"Helvetica,sans-Serif\" font-size=\"14.00\" fill=\"#000000\">class = functional</text>\n</g>\n<!-- 0&#45;&gt;1 -->\n<g id=\"edge1\" class=\"edge\">\n<title>0&#45;&gt;1</title>\n<path fill=\"none\" stroke=\"#000000\" d=\"M374.9819,-504.9465C365.2954,-495.7884 354.7136,-485.7838 344.6603,-476.2788\"/>\n<polygon fill=\"#000000\" stroke=\"#000000\" points=\"346.7701,-473.4569 337.099,-469.13 341.961,-478.5434 346.7701,-473.4569\"/>\n<text text-anchor=\"middle\" x=\"337.7997\" y=\"-490.4202\" font-family=\"Helvetica,sans-Serif\" font-size=\"14.00\" fill=\"#000000\">True</text>\n</g>\n<!-- 4 -->\n<g id=\"node5\" class=\"node\">\n<title>4</title>\n<path fill=\"#d0b4f5\" stroke=\"#000000\" d=\"M610,-469C610,-469 432,-469 432,-469 426,-469 420,-463 420,-457 420,-457 420,-413 420,-413 420,-407 426,-401 432,-401 432,-401 610,-401 610,-401 616,-401 622,-407 622,-413 622,-413 622,-457 622,-457 622,-463 616,-469 610,-469\"/>\n<text text-anchor=\"middle\" x=\"521\" y=\"-453.8\" font-family=\"Helvetica,sans-Serif\" font-size=\"14.00\" fill=\"#000000\">extraction_type_class &lt;= 3.5</text>\n<text text-anchor=\"middle\" x=\"521\" y=\"-438.8\" font-family=\"Helvetica,sans-Serif\" font-size=\"14.00\" fill=\"#000000\">samples = 27.1%</text>\n<text text-anchor=\"middle\" x=\"521\" y=\"-423.8\" font-family=\"Helvetica,sans-Serif\" font-size=\"14.00\" fill=\"#000000\">value = [0.361, 0.038, 0.601]</text>\n<text text-anchor=\"middle\" x=\"521\" y=\"-408.8\" font-family=\"Helvetica,sans-Serif\" font-size=\"14.00\" fill=\"#000000\">class = non functional</text>\n</g>\n<!-- 0&#45;&gt;4 -->\n<g id=\"edge4\" class=\"edge\">\n<title>0&#45;&gt;4</title>\n<path fill=\"none\" stroke=\"#000000\" d=\"M447.0181,-504.9465C456.7046,-495.7884 467.2864,-485.7838 477.3397,-476.2788\"/>\n<polygon fill=\"#000000\" stroke=\"#000000\" points=\"480.039,-478.5434 484.901,-469.13 475.2299,-473.4569 480.039,-478.5434\"/>\n<text text-anchor=\"middle\" x=\"484.2003\" y=\"-490.4202\" font-family=\"Helvetica,sans-Serif\" font-size=\"14.00\" fill=\"#000000\">False</text>\n</g>\n<!-- 2 -->\n<g id=\"node3\" class=\"node\">\n<title>2</title>\n<path fill=\"#f4c9aa\" stroke=\"#000000\" d=\"M188,-357.5C188,-357.5 12,-357.5 12,-357.5 6,-357.5 0,-351.5 0,-345.5 0,-345.5 0,-316.5 0,-316.5 0,-310.5 6,-304.5 12,-304.5 12,-304.5 188,-304.5 188,-304.5 194,-304.5 200,-310.5 200,-316.5 200,-316.5 200,-345.5 200,-345.5 200,-351.5 194,-357.5 188,-357.5\"/>\n<text text-anchor=\"middle\" x=\"100\" y=\"-342.3\" font-family=\"Helvetica,sans-Serif\" font-size=\"14.00\" fill=\"#000000\">samples = 45.1%</text>\n<text text-anchor=\"middle\" x=\"100\" y=\"-327.3\" font-family=\"Helvetica,sans-Serif\" font-size=\"14.00\" fill=\"#000000\">value = [0.599, 0.101, 0.299]</text>\n<text text-anchor=\"middle\" x=\"100\" y=\"-312.3\" font-family=\"Helvetica,sans-Serif\" font-size=\"14.00\" fill=\"#000000\">class = functional</text>\n</g>\n<!-- 1&#45;&gt;2 -->\n<g id=\"edge2\" class=\"edge\">\n<title>1&#45;&gt;2</title>\n<path fill=\"none\" stroke=\"#000000\" d=\"M235.1851,-400.9465C211.1292,-388.4997 184.0513,-374.4892 160.4827,-362.2946\"/>\n<polygon fill=\"#000000\" stroke=\"#000000\" points=\"161.7878,-359.0291 151.2978,-357.5422 158.571,-365.2462 161.7878,-359.0291\"/>\n</g>\n<!-- 3 -->\n<g id=\"node4\" class=\"node\">\n<title>3</title>\n<path fill=\"#f3c5a3\" stroke=\"#000000\" d=\"M382,-357.5C382,-357.5 230,-357.5 230,-357.5 224,-357.5 218,-351.5 218,-345.5 218,-345.5 218,-316.5 218,-316.5 218,-310.5 224,-304.5 230,-304.5 230,-304.5 382,-304.5 382,-304.5 388,-304.5 394,-310.5 394,-316.5 394,-316.5 394,-345.5 394,-345.5 394,-351.5 388,-357.5 382,-357.5\"/>\n<text text-anchor=\"middle\" x=\"306\" y=\"-342.3\" font-family=\"Helvetica,sans-Serif\" font-size=\"14.00\" fill=\"#000000\">samples = 27.7%</text>\n<text text-anchor=\"middle\" x=\"306\" y=\"-327.3\" font-family=\"Helvetica,sans-Serif\" font-size=\"14.00\" fill=\"#000000\">value = [0.63, 0.06, 0.31]</text>\n<text text-anchor=\"middle\" x=\"306\" y=\"-312.3\" font-family=\"Helvetica,sans-Serif\" font-size=\"14.00\" fill=\"#000000\">class = functional</text>\n</g>\n<!-- 1&#45;&gt;3 -->\n<g id=\"edge3\" class=\"edge\">\n<title>1&#45;&gt;3</title>\n<path fill=\"none\" stroke=\"#000000\" d=\"M302.6372,-400.9465C303.1509,-390.2621 303.7199,-378.4254 304.2416,-367.5742\"/>\n<polygon fill=\"#000000\" stroke=\"#000000\" points=\"307.7396,-367.6987 304.7239,-357.5422 300.7477,-367.3625 307.7396,-367.6987\"/>\n</g>\n<!-- 5 -->\n<g id=\"node6\" class=\"node\">\n<title>5</title>\n<path fill=\"#9d66eb\" stroke=\"#000000\" d=\"M601,-357.5C601,-357.5 433,-357.5 433,-357.5 427,-357.5 421,-351.5 421,-345.5 421,-345.5 421,-316.5 421,-316.5 421,-310.5 427,-304.5 433,-304.5 433,-304.5 601,-304.5 601,-304.5 607,-304.5 613,-310.5 613,-316.5 613,-316.5 613,-345.5 613,-345.5 613,-351.5 607,-357.5 601,-357.5\"/>\n<text text-anchor=\"middle\" x=\"517\" y=\"-342.3\" font-family=\"Helvetica,sans-Serif\" font-size=\"14.00\" fill=\"#000000\">samples = 10.9%</text>\n<text text-anchor=\"middle\" x=\"517\" y=\"-327.3\" font-family=\"Helvetica,sans-Serif\" font-size=\"14.00\" fill=\"#000000\">value = [0.159, 0.031, 0.81]</text>\n<text text-anchor=\"middle\" x=\"517\" y=\"-312.3\" font-family=\"Helvetica,sans-Serif\" font-size=\"14.00\" fill=\"#000000\">class = non functional</text>\n</g>\n<!-- 4&#45;&gt;5 -->\n<g id=\"edge5\" class=\"edge\">\n<title>4&#45;&gt;5</title>\n<path fill=\"none\" stroke=\"#000000\" d=\"M519.6903,-400.9465C519.2793,-390.2621 518.8241,-378.4254 518.4067,-367.5742\"/>\n<polygon fill=\"#000000\" stroke=\"#000000\" points=\"521.9027,-367.4002 518.0209,-357.5422 514.9079,-367.6693 521.9027,-367.4002\"/>\n</g>\n<!-- 6 -->\n<g id=\"node7\" class=\"node\">\n<title>6</title>\n<path fill=\"#fdf7f2\" stroke=\"#000000\" d=\"M821,-365C821,-365 643,-365 643,-365 637,-365 631,-359 631,-353 631,-353 631,-309 631,-309 631,-303 637,-297 643,-297 643,-297 821,-297 821,-297 827,-297 833,-303 833,-309 833,-309 833,-353 833,-353 833,-359 827,-365 821,-365\"/>\n<text text-anchor=\"middle\" x=\"732\" y=\"-349.8\" font-family=\"Helvetica,sans-Serif\" font-size=\"14.00\" fill=\"#000000\">extraction_type_class &lt;= 4.5</text>\n<text text-anchor=\"middle\" x=\"732\" y=\"-334.8\" font-family=\"Helvetica,sans-Serif\" font-size=\"14.00\" fill=\"#000000\">samples = 16.2%</text>\n<text text-anchor=\"middle\" x=\"732\" y=\"-319.8\" font-family=\"Helvetica,sans-Serif\" font-size=\"14.00\" fill=\"#000000\">value = [0.497, 0.043, 0.46]</text>\n<text text-anchor=\"middle\" x=\"732\" y=\"-304.8\" font-family=\"Helvetica,sans-Serif\" font-size=\"14.00\" fill=\"#000000\">class = functional</text>\n</g>\n<!-- 4&#45;&gt;6 -->\n<g id=\"edge6\" class=\"edge\">\n<title>4&#45;&gt;6</title>\n<path fill=\"none\" stroke=\"#000000\" d=\"M590.0893,-400.9465C610.4002,-390.9354 632.7633,-379.9129 653.6112,-369.6371\"/>\n<polygon fill=\"#000000\" stroke=\"#000000\" points=\"655.3332,-372.6905 662.7555,-365.13 652.2385,-366.4117 655.3332,-372.6905\"/>\n</g>\n<!-- 7 -->\n<g id=\"node8\" class=\"node\">\n<title>7</title>\n<path fill=\"#d8c1f7\" stroke=\"#000000\" d=\"M710,-253.5C710,-253.5 534,-253.5 534,-253.5 528,-253.5 522,-247.5 522,-241.5 522,-241.5 522,-212.5 522,-212.5 522,-206.5 528,-200.5 534,-200.5 534,-200.5 710,-200.5 710,-200.5 716,-200.5 722,-206.5 722,-212.5 722,-212.5 722,-241.5 722,-241.5 722,-247.5 716,-253.5 710,-253.5\"/>\n<text text-anchor=\"middle\" x=\"622\" y=\"-238.3\" font-family=\"Helvetica,sans-Serif\" font-size=\"14.00\" fill=\"#000000\">samples = 5.0%</text>\n<text text-anchor=\"middle\" x=\"622\" y=\"-223.3\" font-family=\"Helvetica,sans-Serif\" font-size=\"14.00\" fill=\"#000000\">value = [0.381, 0.045, 0.574]</text>\n<text text-anchor=\"middle\" x=\"622\" y=\"-208.3\" font-family=\"Helvetica,sans-Serif\" font-size=\"14.00\" fill=\"#000000\">class = non functional</text>\n</g>\n<!-- 6&#45;&gt;7 -->\n<g id=\"edge7\" class=\"edge\">\n<title>6&#45;&gt;7</title>\n<path fill=\"none\" stroke=\"#000000\" d=\"M695.9819,-296.9465C683.6325,-285.2707 669.8278,-272.219 657.5183,-260.5809\"/>\n<polygon fill=\"#000000\" stroke=\"#000000\" points=\"659.7445,-257.869 650.0734,-253.5422 654.9354,-262.9556 659.7445,-257.869\"/>\n</g>\n<!-- 8 -->\n<g id=\"node9\" class=\"node\">\n<title>8</title>\n<path fill=\"#f9e2d1\" stroke=\"#000000\" d=\"M930,-261C930,-261 752,-261 752,-261 746,-261 740,-255 740,-249 740,-249 740,-205 740,-205 740,-199 746,-193 752,-193 752,-193 930,-193 930,-193 936,-193 942,-199 942,-205 942,-205 942,-249 942,-249 942,-255 936,-261 930,-261\"/>\n<text text-anchor=\"middle\" x=\"841\" y=\"-245.8\" font-family=\"Helvetica,sans-Serif\" font-size=\"14.00\" fill=\"#000000\">extraction_type_class &lt;= 5.5</text>\n<text text-anchor=\"middle\" x=\"841\" y=\"-230.8\" font-family=\"Helvetica,sans-Serif\" font-size=\"14.00\" fill=\"#000000\">samples = 11.2%</text>\n<text text-anchor=\"middle\" x=\"841\" y=\"-215.8\" font-family=\"Helvetica,sans-Serif\" font-size=\"14.00\" fill=\"#000000\">value = [0.548, 0.042, 0.41]</text>\n<text text-anchor=\"middle\" x=\"841\" y=\"-200.8\" font-family=\"Helvetica,sans-Serif\" font-size=\"14.00\" fill=\"#000000\">class = functional</text>\n</g>\n<!-- 6&#45;&gt;8 -->\n<g id=\"edge8\" class=\"edge\">\n<title>6&#45;&gt;8</title>\n<path fill=\"none\" stroke=\"#000000\" d=\"M767.6907,-296.9465C777.2891,-287.7884 787.7747,-277.7838 797.7366,-268.2788\"/>\n<polygon fill=\"#000000\" stroke=\"#000000\" points=\"800.4102,-270.5655 805.2291,-261.13 795.5779,-265.5009 800.4102,-270.5655\"/>\n</g>\n<!-- 9 -->\n<g id=\"node10\" class=\"node\">\n<title>9</title>\n<path fill=\"#f9e4d5\" stroke=\"#000000\" d=\"M819,-149.5C819,-149.5 643,-149.5 643,-149.5 637,-149.5 631,-143.5 631,-137.5 631,-137.5 631,-108.5 631,-108.5 631,-102.5 637,-96.5 643,-96.5 643,-96.5 819,-96.5 819,-96.5 825,-96.5 831,-102.5 831,-108.5 831,-108.5 831,-137.5 831,-137.5 831,-143.5 825,-149.5 819,-149.5\"/>\n<text text-anchor=\"middle\" x=\"731\" y=\"-134.3\" font-family=\"Helvetica,sans-Serif\" font-size=\"14.00\" fill=\"#000000\">samples = 10.3%</text>\n<text text-anchor=\"middle\" x=\"731\" y=\"-119.3\" font-family=\"Helvetica,sans-Serif\" font-size=\"14.00\" fill=\"#000000\">value = [0.541, 0.042, 0.416]</text>\n<text text-anchor=\"middle\" x=\"731\" y=\"-104.3\" font-family=\"Helvetica,sans-Serif\" font-size=\"14.00\" fill=\"#000000\">class = functional</text>\n</g>\n<!-- 8&#45;&gt;9 -->\n<g id=\"edge9\" class=\"edge\">\n<title>8&#45;&gt;9</title>\n<path fill=\"none\" stroke=\"#000000\" d=\"M804.9819,-192.9465C792.6325,-181.2707 778.8278,-168.219 766.5183,-156.5809\"/>\n<polygon fill=\"#000000\" stroke=\"#000000\" points=\"768.7445,-153.869 759.0734,-149.5422 763.9354,-158.9556 768.7445,-153.869\"/>\n</g>\n<!-- 10 -->\n<g id=\"node11\" class=\"node\">\n<title>10</title>\n<path fill=\"#f4cbad\" stroke=\"#000000\" d=\"M1039,-157C1039,-157 861,-157 861,-157 855,-157 849,-151 849,-145 849,-145 849,-101 849,-101 849,-95 855,-89 861,-89 861,-89 1039,-89 1039,-89 1045,-89 1051,-95 1051,-101 1051,-101 1051,-145 1051,-145 1051,-151 1045,-157 1039,-157\"/>\n<text text-anchor=\"middle\" x=\"950\" y=\"-141.8\" font-family=\"Helvetica,sans-Serif\" font-size=\"14.00\" fill=\"#000000\">extraction_type_class &lt;= 6.5</text>\n<text text-anchor=\"middle\" x=\"950\" y=\"-126.8\" font-family=\"Helvetica,sans-Serif\" font-size=\"14.00\" fill=\"#000000\">samples = 0.9%</text>\n<text text-anchor=\"middle\" x=\"950\" y=\"-111.8\" font-family=\"Helvetica,sans-Serif\" font-size=\"14.00\" fill=\"#000000\">value = [0.614, 0.043, 0.343]</text>\n<text text-anchor=\"middle\" x=\"950\" y=\"-96.8\" font-family=\"Helvetica,sans-Serif\" font-size=\"14.00\" fill=\"#000000\">class = functional</text>\n</g>\n<!-- 8&#45;&gt;10 -->\n<g id=\"edge10\" class=\"edge\">\n<title>8&#45;&gt;10</title>\n<path fill=\"none\" stroke=\"#000000\" d=\"M876.6907,-192.9465C886.2891,-183.7884 896.7747,-173.7838 906.7366,-164.2788\"/>\n<polygon fill=\"#000000\" stroke=\"#000000\" points=\"909.4102,-166.5655 914.2291,-157.13 904.5779,-161.5009 909.4102,-166.5655\"/>\n</g>\n<!-- 11 -->\n<g id=\"node12\" class=\"node\">\n<title>11</title>\n<path fill=\"#f2bf9b\" stroke=\"#000000\" d=\"M929,-53C929,-53 753,-53 753,-53 747,-53 741,-47 741,-41 741,-41 741,-12 741,-12 741,-6 747,0 753,0 753,0 929,0 929,0 935,0 941,-6 941,-12 941,-12 941,-41 941,-41 941,-47 935,-53 929,-53\"/>\n<text text-anchor=\"middle\" x=\"841\" y=\"-37.8\" font-family=\"Helvetica,sans-Serif\" font-size=\"14.00\" fill=\"#000000\">samples = 0.7%</text>\n<text text-anchor=\"middle\" x=\"841\" y=\"-22.8\" font-family=\"Helvetica,sans-Serif\" font-size=\"14.00\" fill=\"#000000\">value = [0.657, 0.037, 0.306]</text>\n<text text-anchor=\"middle\" x=\"841\" y=\"-7.8\" font-family=\"Helvetica,sans-Serif\" font-size=\"14.00\" fill=\"#000000\">class = functional</text>\n</g>\n<!-- 10&#45;&gt;11 -->\n<g id=\"edge11\" class=\"edge\">\n<title>10&#45;&gt;11</title>\n<path fill=\"none\" stroke=\"#000000\" d=\"M911.5707,-88.9777C900.9173,-79.546 889.3641,-69.3178 878.7499,-59.9208\"/>\n<polygon fill=\"#000000\" stroke=\"#000000\" points=\"881.0207,-57.2566 871.2133,-53.2485 876.3806,-62.4978 881.0207,-57.2566\"/>\n</g>\n<!-- 12 -->\n<g id=\"node13\" class=\"node\">\n<title>12</title>\n<path fill=\"#f8f3fd\" stroke=\"#000000\" d=\"M1147,-53C1147,-53 971,-53 971,-53 965,-53 959,-47 959,-41 959,-41 959,-12 959,-12 959,-6 965,0 971,0 971,0 1147,0 1147,0 1153,0 1159,-6 1159,-12 1159,-12 1159,-41 1159,-41 1159,-47 1153,-53 1147,-53\"/>\n<text text-anchor=\"middle\" x=\"1059\" y=\"-37.8\" font-family=\"Helvetica,sans-Serif\" font-size=\"14.00\" fill=\"#000000\">samples = 0.2%</text>\n<text text-anchor=\"middle\" x=\"1059\" y=\"-22.8\" font-family=\"Helvetica,sans-Serif\" font-size=\"14.00\" fill=\"#000000\">value = [0.452, 0.065, 0.484]</text>\n<text text-anchor=\"middle\" x=\"1059\" y=\"-7.8\" font-family=\"Helvetica,sans-Serif\" font-size=\"14.00\" fill=\"#000000\">class = non functional</text>\n</g>\n<!-- 10&#45;&gt;12 -->\n<g id=\"edge12\" class=\"edge\">\n<title>10&#45;&gt;12</title>\n<path fill=\"none\" stroke=\"#000000\" d=\"M988.4293,-88.9777C999.0827,-79.546 1010.6359,-69.3178 1021.2501,-59.9208\"/>\n<polygon fill=\"#000000\" stroke=\"#000000\" points=\"1023.6194,-62.4978 1028.7867,-53.2485 1018.9793,-57.2566 1023.6194,-62.4978\"/>\n</g>\n</g>\n</svg>\n"
          },
          "metadata": {
            "tags": []
          }
        }
      ]
    },
    {
      "cell_type": "markdown",
      "metadata": {
        "id": "P4EJi2GvgLVa"
      },
      "source": [
        "# Understand how tree ensembles reduce overfitting compared to a single decision tree with unlimited depth"
      ]
    },
    {
      "cell_type": "markdown",
      "metadata": {
        "id": "eGBJ6Ch1bZyb"
      },
      "source": [
        "## Overview"
      ]
    },
    {
      "cell_type": "markdown",
      "metadata": {
        "id": "0nNABF3HgLVg"
      },
      "source": [
        "### What's \"random\" about random forests?\n",
        "1. Each tree trains on a random bootstrap sample of the data. (In scikit-learn, for `RandomForestRegressor` and `RandomForestClassifier`, the `bootstrap` parameter's default is `True`.) This type of ensembling is called Bagging. (Bootstrap AGGregatING.)\n",
        "2. Each split considers a random subset of the features. (In scikit-learn, when the `max_features` parameter is not `None`.) \n",
        "\n",
        "For extra randomness, you can try [\"extremely randomized trees\"](https://scikit-learn.org/stable/modules/ensemble.html#extremely-randomized-trees)!\n",
        "\n",
        ">In extremely randomized trees (see [ExtraTreesClassifier](https://scikit-learn.org/stable/modules/generated/sklearn.ensemble.ExtraTreesClassifier.html) and [ExtraTreesRegressor](https://scikit-learn.org/stable/modules/generated/sklearn.ensemble.ExtraTreesRegressor.html) classes), randomness goes one step further in the way splits are computed. As in random forests, a random subset of candidate features is used, but instead of looking for the most discriminative thresholds, thresholds are drawn at random for each candidate feature and the best of these randomly-generated thresholds is picked as the splitting rule. This usually allows to reduce the variance of the model a bit more, at the expense of a slightly greater increase in bias"
      ]
    },
    {
      "cell_type": "markdown",
      "metadata": {
        "id": "PlVKfxrtbZyd"
      },
      "source": [
        "## Follow Along"
      ]
    },
    {
      "cell_type": "markdown",
      "metadata": {
        "id": "pUYP619CgLVb"
      },
      "source": [
        "### Example: [predicting golf putts](https://statmodeling.stat.columbia.edu/2008/12/04/the_golf_puttin/)\n",
        "(1 feature, non-linear, regression)"
      ]
    },
    {
      "cell_type": "code",
      "metadata": {
        "id": "b4640ukxgLVc"
      },
      "source": [
        "putts = pd.DataFrame(\n",
        "    columns=['distance', 'tries', 'successes'], \n",
        "    data = [[2, 1443, 1346],\n",
        "            [3, 694, 577],\n",
        "            [4, 455, 337],\n",
        "            [5, 353, 208],\n",
        "            [6, 272, 149],\n",
        "            [7, 256, 136],\n",
        "            [8, 240, 111],\n",
        "            [9, 217, 69],\n",
        "            [10, 200, 67],\n",
        "            [11, 237, 75],\n",
        "            [12, 202, 52],\n",
        "            [13, 192, 46],\n",
        "            [14, 174, 54],\n",
        "            [15, 167, 28],\n",
        "            [16, 201, 27],\n",
        "            [17, 195, 31],\n",
        "            [18, 191, 33],\n",
        "            [19, 147, 20],\n",
        "            [20, 152, 24]]\n",
        ")\n",
        "\n",
        "putts['rate of success'] = putts['successes'] / putts['tries']\n",
        "putts_X = putts[['distance']]\n",
        "putts_y = putts['rate of success']"
      ],
      "execution_count": null,
      "outputs": []
    },
    {
      "cell_type": "code",
      "metadata": {
        "id": "T0IpCcKggLVd",
        "outputId": "c80dabf5-efa1-4125-ee63-40124a43a972",
        "colab": {
          "base_uri": "https://localhost:8080/",
          "height": 415,
          "referenced_widgets": [
            "ace2caf61efe46eca49c7dcf58112ec2",
            "20c25b4f798a49128f574aee2cfe3fb0",
            "36ea0d27e42940f091b99a24c4487ef3",
            "03e49eb96ebe4835ba84d8303f49886b",
            "0d03d5cdee0341549d9f738399fceccd",
            "4238afbcfe6047ffa1c959baecbf6e75",
            "4c9b61c21db64a30b8500a17889b6648",
            "1d6c720176a540b884842a6a5e872da8",
            "70a6fb8c4c864ea2bcc293438f2e9e50",
            "6387d018d543491cbe8b51d076df415f"
          ]
        }
      },
      "source": [
        "%matplotlib inline\n",
        "import matplotlib.pyplot as plt\n",
        "from ipywidgets import interact\n",
        "from sklearn.ensemble import RandomForestRegressor\n",
        "from sklearn.tree import DecisionTreeRegressor\n",
        "\n",
        "def putt_trees(max_depth=1, n_estimators=1):\n",
        "    models = [DecisionTreeRegressor(max_depth=max_depth), \n",
        "              RandomForestRegressor(max_depth=max_depth, n_estimators=n_estimators)]\n",
        "    \n",
        "    for model in models:\n",
        "        name = model.__class__.__name__\n",
        "        model.fit(putts_X, putts_y)\n",
        "        ax = putts.plot('distance', 'rate of success', kind='scatter', title=name)\n",
        "        ax.step(putts_X, model.predict(putts_X), where='mid')\n",
        "        plt.show()\n",
        "        \n",
        "interact(putt_trees, max_depth=(1,6,1), n_estimators=(10,40,10));"
      ],
      "execution_count": null,
      "outputs": [
        {
          "output_type": "display_data",
          "data": {
            "application/vnd.jupyter.widget-view+json": {
              "model_id": "ace2caf61efe46eca49c7dcf58112ec2",
              "version_minor": 0,
              "version_major": 2
            },
            "text/plain": [
              "interactive(children=(IntSlider(value=1, description='max_depth', max=6, min=1), IntSlider(value=10, descripti…"
            ]
          },
          "metadata": {
            "tags": []
          }
        }
      ]
    },
    {
      "cell_type": "markdown",
      "metadata": {
        "id": "rq4Z_wQ_gLVj"
      },
      "source": [
        "### Go back to Tanzania Waterpumps ..."
      ]
    },
    {
      "cell_type": "markdown",
      "metadata": {
        "id": "FoSE9iT6YXQz"
      },
      "source": [
        "#### Helper function to visualize predicted probabilities\n",
        "\n"
      ]
    },
    {
      "cell_type": "code",
      "metadata": {
        "id": "HzIAjGpJgLVj"
      },
      "source": [
        "import itertools\n",
        "import seaborn as sns\n",
        "\n",
        "def pred_heatmap(model, X, features, class_index=-1, title='', num=100):\n",
        "    \"\"\"\n",
        "    Visualize predicted probabilities, for classifier fit on 2 numeric features\n",
        "    \n",
        "    Parameters\n",
        "    ----------\n",
        "    model : scikit-learn classifier, already fit\n",
        "    X : pandas dataframe, which was used to fit model\n",
        "    features : list of strings, column names of the 2 numeric features\n",
        "    class_index : integer, index of class label\n",
        "    title : string, title of plot\n",
        "    num : int, number of grid points for each feature\n",
        "    \n",
        "    Returns\n",
        "    -------\n",
        "    y_pred_proba : numpy array, predicted probabilities for class_index\n",
        "    \"\"\"\n",
        "    feature1, feature2 = features\n",
        "    min1, max1 = X[feature1].min(), X[feature1].max()\n",
        "    min2, max2 = X[feature2].min(), X[feature2].max()\n",
        "    x1 = np.linspace(min1, max1, num)\n",
        "    x2 = np.linspace(max2, min2, num)\n",
        "    combos = list(itertools.product(x1, x2))\n",
        "    y_pred_proba = model.predict_proba(combos)[:, class_index]\n",
        "    pred_grid = y_pred_proba.reshape(num, num).T\n",
        "    table = pd.DataFrame(pred_grid, columns=x1, index=x2)\n",
        "    sns.heatmap(table, vmin=0, vmax=1)\n",
        "    plt.xticks([])\n",
        "    plt.yticks([])\n",
        "    plt.xlabel(feature1)\n",
        "    plt.ylabel(feature2)\n",
        "    plt.title(title)\n",
        "    plt.show()\n",
        "    return y_pred_proba\n"
      ],
      "execution_count": null,
      "outputs": []
    },
    {
      "cell_type": "markdown",
      "metadata": {
        "id": "DiRfPqHjgLVl"
      },
      "source": [
        "### Compare Decision Tree, Random Forest, Logistic Regression"
      ]
    },
    {
      "cell_type": "code",
      "metadata": {
        "id": "HKkMLXhMgLVl",
        "outputId": "ede84c99-c612-4a88-9a36-37eb359f68a7",
        "colab": {
          "base_uri": "https://localhost:8080/",
          "height": 864,
          "referenced_widgets": [
            "7829a46de536481da9034003e84b0d25",
            "9cd4ec1b7d4a4fb5bd1e54008f42fbdd",
            "215d1ed483df426ea7605119acff9e93",
            "efe66ac6bb7e4f7e97f8edf7e53da2eb",
            "855c46a984164540a209b5e70883a6b6",
            "9450e8a44b9447ce9f9394db8a15b5db",
            "bbb25e40f41e43dfb15f5542aac73cb5",
            "41e400861bac42d0a2323856ed65f8da",
            "200322156fd543408278d593d8f6bd99",
            "b76101bca6fc426abab7dc15744370e9"
          ]
        }
      },
      "source": [
        "# Instructions\n",
        "# 1. Choose two features\n",
        "# 2. Run this code cell\n",
        "# 3. Interact with the widget sliders\n",
        "feature1 = 'longitude'\n",
        "feature2 = 'quantity'\n",
        "\n",
        "from sklearn.linear_model import LogisticRegression\n",
        "from sklearn.tree import DecisionTreeClassifier\n",
        "\n",
        "def get_X_y(df, feature1, feature2, target):\n",
        "    features = [feature1, feature2]\n",
        "    X = df[features]\n",
        "    y = df[target]\n",
        "    X = X.fillna(X.median())\n",
        "    X = ce.OrdinalEncoder().fit_transform(X)\n",
        "    return X, y\n",
        "\n",
        "def compare_models(max_depth=1, n_estimators=1):\n",
        "    models = [DecisionTreeClassifier(max_depth=max_depth), \n",
        "              RandomForestClassifier(max_depth=max_depth, n_estimators=n_estimators), \n",
        "              LogisticRegression(solver='lbfgs', multi_class='auto')]\n",
        "    \n",
        "    for model in models:\n",
        "        name = model.__class__.__name__\n",
        "        model.fit(X, y)\n",
        "        pred_heatmap(model, X, [feature1, feature2], class_index=0, title=name)\n",
        "\n",
        "X, y = get_X_y(train, feature1, feature2, target='status_group')\n",
        "interact(compare_models, max_depth=(1,6,1), n_estimators=(10,40,10));"
      ],
      "execution_count": null,
      "outputs": [
        {
          "output_type": "display_data",
          "data": {
            "application/vnd.jupyter.widget-view+json": {
              "model_id": "7829a46de536481da9034003e84b0d25",
              "version_minor": 0,
              "version_major": 2
            },
            "text/plain": [
              "interactive(children=(IntSlider(value=1, description='max_depth', max=6, min=1), IntSlider(value=10, descripti…"
            ]
          },
          "metadata": {
            "tags": []
          }
        }
      ]
    },
    {
      "cell_type": "markdown",
      "metadata": {
        "id": "hOQqjLEDgLVn"
      },
      "source": [
        "### Bagging"
      ]
    },
    {
      "cell_type": "code",
      "metadata": {
        "id": "Hm4aPgs2gLVn",
        "outputId": "7d1d7833-0a8f-4e54-e03a-a4bc90ce8da5",
        "colab": {
          "base_uri": "https://localhost:8080/",
          "height": 1000,
          "referenced_widgets": [
            "6c48c013a7ba4c7daed34097bacc3571",
            "4543b1b42e3a4782958fcf94b521e6b7",
            "ba448504fd2547eca0717f384e11c4cd",
            "40979758e9b148ad87d19d70908b2057",
            "7bf391ca53a1441ca7e0a8d310d14713",
            "963fe36e9a1d4a879e0794a55bebe3f7",
            "a59f51e77c284c8592cf1ce97e95c395",
            "b50c70738afd4627b68f15df5792325f",
            "f05ffb7018104aa9aef738626d933a8a",
            "e42b9d74e32d427781fbff431ec6c485"
          ]
        }
      },
      "source": [
        "# Do-it-yourself Bagging Ensemble of Decision Trees (like a Random Forest)\n",
        "\n",
        "# Instructions\n",
        "# 1. Choose two features\n",
        "# 2. Run this code cell\n",
        "# 3. Interact with the widget sliders\n",
        "\n",
        "feature1 = 'longitude'\n",
        "feature2 = 'latitude'\n",
        "\n",
        "def waterpumps_bagging(max_depth=1, n_estimators=1):\n",
        "    predicteds = []\n",
        "    for i in range(n_estimators):\n",
        "        title = f'Tree {i+1}'\n",
        "        bootstrap_sample = train.sample(n=len(train), replace=True)\n",
        "        X, y = get_X_y(bootstrap_sample, feature1, feature2, target='status_group')\n",
        "        tree = DecisionTreeClassifier(max_depth=max_depth)\n",
        "        tree.fit(X, y)\n",
        "        predicted = pred_heatmap(tree, X, [feature1, feature2], class_index=0, title=title)\n",
        "        predicteds.append(predicted)\n",
        "    \n",
        "    ensembled = np.vstack(predicteds).mean(axis=0)\n",
        "    title = f'Ensemble of {n_estimators} trees, with max_depth={max_depth}'\n",
        "    sns.heatmap(ensembled.reshape(100, 100).T, vmin=0, vmax=1)\n",
        "    plt.title(title)\n",
        "    plt.xlabel(feature1)\n",
        "    plt.ylabel(feature2)\n",
        "    plt.xticks([])\n",
        "    plt.yticks([])\n",
        "    plt.show()\n",
        "        \n",
        "interact(waterpumps_bagging, max_depth=(1,6,1), n_estimators=(2,5,1));"
      ],
      "execution_count": null,
      "outputs": [
        {
          "output_type": "display_data",
          "data": {
            "application/vnd.jupyter.widget-view+json": {
              "model_id": "6c48c013a7ba4c7daed34097bacc3571",
              "version_minor": 0,
              "version_major": 2
            },
            "text/plain": [
              "interactive(children=(IntSlider(value=1, description='max_depth', max=6, min=1), IntSlider(value=2, descriptio…"
            ]
          },
          "metadata": {
            "tags": []
          }
        }
      ]
    },
    {
      "cell_type": "markdown",
      "metadata": {
        "id": "wYoSBi15akWP"
      },
      "source": [
        "# Review\n",
        "\n",
        "#### Try Tree Ensembles when you do machine learning with labeled, tabular data\n",
        "- \"Tree Ensembles\" means Random Forest or Gradient Boosting models. \n",
        "- [Tree Ensembles often have the best predictive accuracy](https://arxiv.org/abs/1708.05070) with labeled, tabular data.\n",
        "- Why? Because trees can fit non-linear, non-[monotonic](https://en.wikipedia.org/wiki/Monotonic_function) relationships, and [interactions](https://christophm.github.io/interpretable-ml-book/interaction.html) between features.\n",
        "- A single decision tree, grown to unlimited depth, will [overfit](http://www.r2d3.us/visual-intro-to-machine-learning-part-1/). We solve this problem by ensembling trees, with bagging (Random Forest) or boosting (Gradient Boosting).\n",
        "- Random Forest's advantage: may be less sensitive to hyperparameters. Gradient Boosting's advantage: may get better predictive accuracy.\n",
        "\n",
        "#### One-hot encoding isn’t the only way, and may not be the best way, of categorical encoding for tree ensembles.\n",
        "- For example, tree ensembles can work with arbitrary \"ordinal\" encoding! (Randomly assigning an integer to each category.) Compared to one-hot encoding, the dimensionality will be lower, and the predictive accuracy may be just as good or even better.\n"
      ]
    }
  ]
}